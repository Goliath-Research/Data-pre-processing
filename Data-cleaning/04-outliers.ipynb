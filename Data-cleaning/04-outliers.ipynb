{
 "cells": [
  {
   "cell_type": "markdown",
   "metadata": {},
   "source": [
    "# Handling Outliers"
   ]
  },
  {
   "cell_type": "markdown",
   "metadata": {},
   "source": [
    "An outlier is a value that deviates substantially from the rest of the data. That means it is an observation that is abnormally far apart from the other values."
   ]
  },
  {
   "cell_type": "code",
   "execution_count": 1,
   "metadata": {},
   "outputs": [],
   "source": [
    "import pandas as pd\n",
    "pd.set_option('display.max_columns', 10)\n",
    "\n",
    "import matplotlib.pyplot as plt\n",
    "\n",
    "import seaborn as sns\n",
    "sns.set_theme(style=\"whitegrid\")\n",
    "#sns.set_theme(rc={\"figure.figsize\":(4, 5)})     #width=4, height=5\n"
   ]
  },
  {
   "cell_type": "markdown",
   "metadata": {},
   "source": [
    "## Automobile Dataset"
   ]
  },
  {
   "cell_type": "code",
   "execution_count": 2,
   "metadata": {},
   "outputs": [],
   "source": [
    "# Defining the headers\n",
    "headers = [\"symboling\", \"normalized_losses\", \"make\", \"fuel_type\", \"aspiration\", \"num_doors\", \n",
    "           \"body_style\", \"drive_wheels\", \"engine_location\", \"wheel_base\", \"length\", \"width\", \"height\",\n",
    "           \"curb_weight\", \"engine_type\", \"num_cylinders\", \"engine_size\", \"fuel_system\", \"bore\", \n",
    "           \"stroke\", \"compression_ratio\", \"horsepower\", \"peak_rpm\", \"city_mpg\", \"highway_mpg\", \"price\"]"
   ]
  },
  {
   "cell_type": "code",
   "execution_count": 3,
   "metadata": {},
   "outputs": [
    {
     "data": {
      "text/html": [
       "<div>\n",
       "<style scoped>\n",
       "    .dataframe tbody tr th:only-of-type {\n",
       "        vertical-align: middle;\n",
       "    }\n",
       "\n",
       "    .dataframe tbody tr th {\n",
       "        vertical-align: top;\n",
       "    }\n",
       "\n",
       "    .dataframe thead th {\n",
       "        text-align: right;\n",
       "    }\n",
       "</style>\n",
       "<table border=\"1\" class=\"dataframe\">\n",
       "  <thead>\n",
       "    <tr style=\"text-align: right;\">\n",
       "      <th></th>\n",
       "      <th>symboling</th>\n",
       "      <th>normalized_losses</th>\n",
       "      <th>make</th>\n",
       "      <th>fuel_type</th>\n",
       "      <th>aspiration</th>\n",
       "      <th>...</th>\n",
       "      <th>horsepower</th>\n",
       "      <th>peak_rpm</th>\n",
       "      <th>city_mpg</th>\n",
       "      <th>highway_mpg</th>\n",
       "      <th>price</th>\n",
       "    </tr>\n",
       "  </thead>\n",
       "  <tbody>\n",
       "    <tr>\n",
       "      <th>0</th>\n",
       "      <td>3</td>\n",
       "      <td>NaN</td>\n",
       "      <td>alfa-romero</td>\n",
       "      <td>gas</td>\n",
       "      <td>std</td>\n",
       "      <td>...</td>\n",
       "      <td>111.0</td>\n",
       "      <td>5000.0</td>\n",
       "      <td>21</td>\n",
       "      <td>27</td>\n",
       "      <td>13495.0</td>\n",
       "    </tr>\n",
       "    <tr>\n",
       "      <th>1</th>\n",
       "      <td>3</td>\n",
       "      <td>NaN</td>\n",
       "      <td>alfa-romero</td>\n",
       "      <td>gas</td>\n",
       "      <td>std</td>\n",
       "      <td>...</td>\n",
       "      <td>111.0</td>\n",
       "      <td>5000.0</td>\n",
       "      <td>21</td>\n",
       "      <td>27</td>\n",
       "      <td>16500.0</td>\n",
       "    </tr>\n",
       "    <tr>\n",
       "      <th>2</th>\n",
       "      <td>1</td>\n",
       "      <td>NaN</td>\n",
       "      <td>alfa-romero</td>\n",
       "      <td>gas</td>\n",
       "      <td>std</td>\n",
       "      <td>...</td>\n",
       "      <td>154.0</td>\n",
       "      <td>5000.0</td>\n",
       "      <td>19</td>\n",
       "      <td>26</td>\n",
       "      <td>16500.0</td>\n",
       "    </tr>\n",
       "    <tr>\n",
       "      <th>3</th>\n",
       "      <td>2</td>\n",
       "      <td>164.0</td>\n",
       "      <td>audi</td>\n",
       "      <td>gas</td>\n",
       "      <td>std</td>\n",
       "      <td>...</td>\n",
       "      <td>102.0</td>\n",
       "      <td>5500.0</td>\n",
       "      <td>24</td>\n",
       "      <td>30</td>\n",
       "      <td>13950.0</td>\n",
       "    </tr>\n",
       "    <tr>\n",
       "      <th>4</th>\n",
       "      <td>2</td>\n",
       "      <td>164.0</td>\n",
       "      <td>audi</td>\n",
       "      <td>gas</td>\n",
       "      <td>std</td>\n",
       "      <td>...</td>\n",
       "      <td>115.0</td>\n",
       "      <td>5500.0</td>\n",
       "      <td>18</td>\n",
       "      <td>22</td>\n",
       "      <td>17450.0</td>\n",
       "    </tr>\n",
       "  </tbody>\n",
       "</table>\n",
       "<p>5 rows × 26 columns</p>\n",
       "</div>"
      ],
      "text/plain": [
       "   symboling  normalized_losses         make fuel_type aspiration  ...  \\\n",
       "0          3                NaN  alfa-romero       gas        std  ...   \n",
       "1          3                NaN  alfa-romero       gas        std  ...   \n",
       "2          1                NaN  alfa-romero       gas        std  ...   \n",
       "3          2              164.0         audi       gas        std  ...   \n",
       "4          2              164.0         audi       gas        std  ...   \n",
       "\n",
       "  horsepower peak_rpm city_mpg highway_mpg    price  \n",
       "0      111.0   5000.0       21          27  13495.0  \n",
       "1      111.0   5000.0       21          27  16500.0  \n",
       "2      154.0   5000.0       19          26  16500.0  \n",
       "3      102.0   5500.0       24          30  13950.0  \n",
       "4      115.0   5500.0       18          22  17450.0  \n",
       "\n",
       "[5 rows x 26 columns]"
      ]
     },
     "execution_count": 3,
     "metadata": {},
     "output_type": "execute_result"
    }
   ],
   "source": [
    "df = pd.read_csv(\"https://archive.ics.uci.edu/ml/machine-learning-databases/autos/imports-85.data\",\n",
    "                  header=None, names=headers, na_values=\"?\" )\n",
    "df.head()"
   ]
  },
  {
   "cell_type": "markdown",
   "metadata": {},
   "source": [
    "## Boxplots and Interquartile Range (IQR)"
   ]
  },
  {
   "cell_type": "markdown",
   "metadata": {},
   "source": [
    "Graphing features are good ways for detecting outliers. Box plots are good examples. "
   ]
  },
  {
   "cell_type": "code",
   "execution_count": 4,
   "metadata": {},
   "outputs": [
    {
     "data": {
      "text/html": [
       "<div>\n",
       "<style scoped>\n",
       "    .dataframe tbody tr th:only-of-type {\n",
       "        vertical-align: middle;\n",
       "    }\n",
       "\n",
       "    .dataframe tbody tr th {\n",
       "        vertical-align: top;\n",
       "    }\n",
       "\n",
       "    .dataframe thead th {\n",
       "        text-align: right;\n",
       "    }\n",
       "</style>\n",
       "<table border=\"1\" class=\"dataframe\">\n",
       "  <thead>\n",
       "    <tr style=\"text-align: right;\">\n",
       "      <th></th>\n",
       "      <th>horsepower</th>\n",
       "      <th>city_mpg</th>\n",
       "      <th>highway_mpg</th>\n",
       "    </tr>\n",
       "  </thead>\n",
       "  <tbody>\n",
       "    <tr>\n",
       "      <th>0</th>\n",
       "      <td>111.0</td>\n",
       "      <td>21</td>\n",
       "      <td>27</td>\n",
       "    </tr>\n",
       "    <tr>\n",
       "      <th>1</th>\n",
       "      <td>111.0</td>\n",
       "      <td>21</td>\n",
       "      <td>27</td>\n",
       "    </tr>\n",
       "    <tr>\n",
       "      <th>2</th>\n",
       "      <td>154.0</td>\n",
       "      <td>19</td>\n",
       "      <td>26</td>\n",
       "    </tr>\n",
       "    <tr>\n",
       "      <th>3</th>\n",
       "      <td>102.0</td>\n",
       "      <td>24</td>\n",
       "      <td>30</td>\n",
       "    </tr>\n",
       "    <tr>\n",
       "      <th>4</th>\n",
       "      <td>115.0</td>\n",
       "      <td>18</td>\n",
       "      <td>22</td>\n",
       "    </tr>\n",
       "  </tbody>\n",
       "</table>\n",
       "</div>"
      ],
      "text/plain": [
       "   horsepower  city_mpg  highway_mpg\n",
       "0       111.0        21           27\n",
       "1       111.0        21           27\n",
       "2       154.0        19           26\n",
       "3       102.0        24           30\n",
       "4       115.0        18           22"
      ]
     },
     "execution_count": 4,
     "metadata": {},
     "output_type": "execute_result"
    }
   ],
   "source": [
    "# Getting a few variables\n",
    "df2 = df[['horsepower','city_mpg','highway_mpg']]\n",
    "df2.head()"
   ]
  },
  {
   "cell_type": "code",
   "execution_count": 5,
   "metadata": {},
   "outputs": [
    {
     "data": {
      "image/png": "[encoded data removed]",
      "text/plain": [
       "<Figure size 1000x600 with 1 Axes>"
      ]
     },
     "metadata": {},
     "output_type": "display_data"
    }
   ],
   "source": [
    "# Using matplotlib to plot the data and visualize the outliers\n",
    "df2.boxplot(figsize=(10,6));"
   ]
  },
  {
   "cell_type": "code",
   "execution_count": 6,
   "metadata": {},
   "outputs": [],
   "source": [
    "# Using seaborn to plot variable horsepower and visualize the outliers\n",
    "sns.boxplot(y=df2.horsepower).set_title('Horsepower');\t"
   ]
  },
  {
   "cell_type": "markdown",
   "metadata": {},
   "source": [
    "`whis`: Proportion of the IQR past the low and high quartiles to extend the plot whiskers. Points outside this range will be identified as outliers."
   ]
  },
  {
   "cell_type": "code",
   "execution_count": 7,
   "metadata": {},
   "outputs": [],
   "source": [
    "# whis=1.5 produces the same result. It is the default value.\n",
    "sns.boxplot(y=df2.horsepower, whis=1.5).set_title('Horsepower');"
   ]
  },
  {
   "cell_type": "code",
   "execution_count": 8,
   "metadata": {},
   "outputs": [],
   "source": [
    "# with whis=1 you get more outliers\n",
    "sns.boxplot(y=df2.horsepower, whis=1).set_title('Horsepower');"
   ]
  },
  {
   "cell_type": "code",
   "execution_count": 9,
   "metadata": {},
   "outputs": [],
   "source": [
    "# with whis=2 you get less outliers\n",
    "sns.boxplot(y=df2.horsepower, whis=2).set_title('Horsepower');"
   ]
  },
  {
   "cell_type": "markdown",
   "metadata": {},
   "source": [
    "With `whis=0` you get no whisker, only the box. All data outside the box are considered outliers.\n"
   ]
  },
  {
   "cell_type": "code",
   "execution_count": 10,
   "metadata": {},
   "outputs": [],
   "source": [
    "# with whis=2 you get less outliers\n",
    "sns.boxplot(y=df2.horsepower, whis=0).set_title('Horsepower');"
   ]
  },
  {
   "cell_type": "markdown",
   "metadata": {},
   "source": [
    "Let's create a function that returns the outliers."
   ]
  },
  {
   "cell_type": "code",
   "execution_count": 11,
   "metadata": {},
   "outputs": [],
   "source": [
    "def boxplot_outliers(data, whis=1.5):\n",
    "    '''\n",
    "    Show the Boxplot and return the outliers\n",
    "    '''\n",
    "    sns.boxplot(y=data, whis=whis)\n",
    "    Q1 = data.quantile(0.25)\n",
    "    Q3 = data.quantile(0.75)\n",
    "    IQR = Q3 - Q1\n",
    "    outliers = data[(data < Q1-whis*IQR) | (data > Q3+whis*IQR)]\n",
    "    return outliers"
   ]
  },
  {
   "cell_type": "code",
   "execution_count": 12,
   "metadata": {},
   "outputs": [
    {
     "data": {
      "text/plain": [
       "49     262.0\n",
       "105    200.0\n",
       "126    207.0\n",
       "127    207.0\n",
       "128    207.0\n",
       "129    288.0\n",
       "Name: horsepower, dtype: float64"
      ]
     },
     "execution_count": 12,
     "metadata": {},
     "output_type": "execute_result"
    }
   ],
   "source": [
    "boxplot_outliers(df2.horsepower)"
   ]
  },
  {
   "cell_type": "code",
   "execution_count": 13,
   "metadata": {},
   "outputs": [
    {
     "data": {
      "text/plain": [
       "15     182.0\n",
       "16     182.0\n",
       "17     182.0\n",
       "47     176.0\n",
       "48     176.0\n",
       "49     262.0\n",
       "73     184.0\n",
       "74     184.0\n",
       "75     175.0\n",
       "105    200.0\n",
       "126    207.0\n",
       "127    207.0\n",
       "128    207.0\n",
       "129    288.0\n",
       "Name: horsepower, dtype: float64"
      ]
     },
     "execution_count": 13,
     "metadata": {},
     "output_type": "execute_result"
    }
   ],
   "source": [
    "boxplot_outliers(df2.horsepower, 1)"
   ]
  },
  {
   "cell_type": "code",
   "execution_count": 14,
   "metadata": {},
   "outputs": [
    {
     "data": {
      "text/plain": [
       "49     262.0\n",
       "129    288.0\n",
       "Name: horsepower, dtype: float64"
      ]
     },
     "execution_count": 14,
     "metadata": {},
     "output_type": "execute_result"
    }
   ],
   "source": [
    "boxplot_outliers(df2.horsepower, 2)"
   ]
  },
  {
   "cell_type": "markdown",
   "metadata": {},
   "source": [
    "### Analyzing outliers of `city_mpg`"
   ]
  },
  {
   "cell_type": "code",
   "execution_count": 15,
   "metadata": {},
   "outputs": [],
   "source": [
    "fig, (ax1, ax2, ax3) = plt.subplots(1, 3, figsize=(15,7))\n",
    "\n",
    "plt.subplot(1,3,1)\n",
    "city_outl_1 = boxplot_outliers(df2.city_mpg, 1)\n",
    "ax1.set_title('whis=1')\n",
    "\n",
    "plt.subplot(1,3,2)\n",
    "city_outl_2 = boxplot_outliers(df2.city_mpg, 1.5)\n",
    "ax2.set_title('whis=1.5')\n",
    "\n",
    "plt.subplot(1,3,3)\n",
    "city_outl_3 = boxplot_outliers(df2.city_mpg, 2)\n",
    "ax3.set_title('whis=2')\n",
    "\n",
    "fig.suptitle('Boxplots of city_mpg', fontsize=20);"
   ]
  },
  {
   "cell_type": "code",
   "execution_count": 16,
   "metadata": {},
   "outputs": [
    {
     "name": "stdout",
     "output_type": "stream",
     "text": [
      "Number of outliers of city_mpg with whis=1   : 3\n",
      "Number of outliers of city_mpg with whis=1.5 : 2\n",
      "Number of outliers of city_mpg with whis=2   : 0\n"
     ]
    }
   ],
   "source": [
    "print('Number of outliers of city_mpg with whis=1   :', len(city_outl_1))\n",
    "print('Number of outliers of city_mpg with whis=1.5 :', len(city_outl_2))\n",
    "print('Number of outliers of city_mpg with whis=2   :', len(city_outl_3))"
   ]
  },
  {
   "cell_type": "markdown",
   "metadata": {},
   "source": [
    "### Analyzing outliers of `highway_mpg`"
   ]
  },
  {
   "cell_type": "code",
   "execution_count": 17,
   "metadata": {},
   "outputs": [],
   "source": [
    "fig, (ax1, ax2, ax3) = plt.subplots(1, 3, figsize=(15,7))\n",
    "\n",
    "plt.subplot(1,3,1)\n",
    "high_outl_1 = boxplot_outliers(df2.highway_mpg, 1)\n",
    "ax1.set_title('whis=1')\n",
    "\n",
    "plt.subplot(1,3,2)\n",
    "high_outl_2 = boxplot_outliers(df2.highway_mpg, 1.5)\n",
    "ax2.set_title('whis=1.5')\n",
    "\n",
    "plt.subplot(1,3,3)\n",
    "high_outl_3 = boxplot_outliers(df2.highway_mpg, 2)\n",
    "ax3.set_title('whis=2')\n",
    "\n",
    "fig.suptitle('Boxplots of highway', fontsize=20);"
   ]
  },
  {
   "cell_type": "code",
   "execution_count": 18,
   "metadata": {},
   "outputs": [
    {
     "name": "stdout",
     "output_type": "stream",
     "text": [
      "Number of outliers of city_mpg with whis=1   : 7\n",
      "Number of outliers of city_mpg with whis=1.5 : 3\n",
      "Number of outliers of city_mpg with whis=2   : 2\n"
     ]
    }
   ],
   "source": [
    "print('Number of outliers of city_mpg with whis=1   :', len(high_outl_1))\n",
    "print('Number of outliers of city_mpg with whis=1.5 :', len(high_outl_2))\n",
    "print('Number of outliers of city_mpg with whis=2   :', len(high_outl_3))"
   ]
  },
  {
   "cell_type": "markdown",
   "metadata": {},
   "source": [
    "## Boxenplots "
   ]
  },
  {
   "cell_type": "markdown",
   "metadata": {},
   "source": [
    "Boxenplots are advancements of boxplots designed to visualize distributions more accurately. Therefore, we can use them to detect outliers.\n",
    "\n",
    "The number of boxes, and by extension number of percentiles, to draw. All methods are detailed in Wickham’s paper. Each makes different assumptions about the number of outliers and leverages different statistical properties. "
   ]
  },
  {
   "cell_type": "code",
   "execution_count": 19,
   "metadata": {},
   "outputs": [],
   "source": [
    "fig, (ax1, ax2, ax3) = plt.subplots(1, 3, figsize=(15,7))\n",
    "\n",
    "plt.subplot(1,3,1)\n",
    "sns.boxenplot(y=df2.horsepower, k_depth='proportion', outlier_prop=0.007)\n",
    "ax1.set_title('k_depth=proportion, outlier_prop=0.007')\n",
    "\n",
    "plt.subplot(1,3,2)\n",
    "sns.boxenplot(y=df2.horsepower, k_depth='trustworthy')\n",
    "ax2.set_title('k_depth=trustworthy')\n",
    "\n",
    "plt.subplot(1,3,3)\n",
    "sns.boxenplot(y=df2.horsepower, k_depth='tukey')\n",
    "ax3.set_title('k_depth=tukey')\n",
    "\n",
    "fig.suptitle('Boxplots of horsepower', fontsize=20);"
   ]
  },
  {
   "cell_type": "code",
   "execution_count": 20,
   "metadata": {},
   "outputs": [],
   "source": [
    "fig, (ax1, ax2, ax3) = plt.subplots(1, 3, figsize=(15,7))\n",
    "\n",
    "plt.subplot(1,3,1)\n",
    "sns.boxenplot(y=df2.city_mpg, k_depth='proportion', outlier_prop=0.007)\n",
    "ax1.set_title('k_depth=proportion, outlier_prop=0.007')\n",
    "\n",
    "plt.subplot(1,3,2)\n",
    "sns.boxenplot(y=df2.city_mpg, k_depth='trustworthy')\n",
    "ax2.set_title('k_depth=trustworthy')\n",
    "\n",
    "plt.subplot(1,3,3)\n",
    "sns.boxenplot(y=df2.city_mpg, k_depth='tukey')\n",
    "ax3.set_title('k_depth=tukey')\n",
    "\n",
    "fig.suptitle('Boxplots of city_mpg', fontsize=20);"
   ]
  },
  {
   "cell_type": "code",
   "execution_count": 21,
   "metadata": {},
   "outputs": [],
   "source": [
    "fig, (ax1, ax2, ax3) = plt.subplots(1, 3, figsize=(15,7))\n",
    "\n",
    "plt.subplot(1,3,1)\n",
    "sns.boxenplot(y=df2.highway_mpg, k_depth='proportion', outlier_prop=0.007)\n",
    "ax1.set_title('k_depth=proportion, outlier_prop=0.007')\n",
    "\n",
    "plt.subplot(1,3,2)\n",
    "sns.boxenplot(y=df2.highway_mpg, k_depth='trustworthy')\n",
    "ax2.set_title('k_depth=trustworthy')\n",
    "\n",
    "plt.subplot(1,3,3)\n",
    "sns.boxenplot(y=df2.highway_mpg, k_depth='tukey')\n",
    "ax3.set_title('k_depth=tukey')\n",
    "\n",
    "fig.suptitle('Boxplots of highway_mpg', fontsize=20);"
   ]
  },
  {
   "cell_type": "markdown",
   "metadata": {},
   "source": [
    "## Z-Score"
   ]
  },
  {
   "cell_type": "markdown",
   "metadata": {},
   "source": [
    "Z-scores or standardized values, are another way to identify outliers. "
   ]
  },
  {
   "cell_type": "code",
   "execution_count": 22,
   "metadata": {},
   "outputs": [],
   "source": [
    "def z_score_outliers(x):\n",
    "    \"\"\"\n",
    "    Calculate z-score for each element in x and return the outliers\n",
    "    \"\"\"\n",
    "    mean_x = x.mean()\n",
    "    std_x = x.std()\n",
    "    z_scores = (x - mean_x) / std_x\n",
    "    sns.displot(z_scores, kde=True, height=3, aspect=1.5)\n",
    "    plt.axvline(x=-3, ymin=0, ymax=0.5, color='orangered', linewidth=2)\n",
    "    plt.axvline(x=3,  ymin=0, ymax=0.5, color='orangered', linewidth=2)\n",
    "    z_outliers = z_scores[(z_scores < -3) | (z_scores > 3)]\n",
    "    x_outliers = z_outliers * std_x + mean_x\n",
    "    return x_outliers"
   ]
  },
  {
   "cell_type": "code",
   "execution_count": 23,
   "metadata": {},
   "outputs": [
    {
     "data": {
      "text/plain": [
       "49     262.0\n",
       "129    288.0\n",
       "Name: horsepower, dtype: float64"
      ]
     },
     "execution_count": 23,
     "metadata": {},
     "output_type": "execute_result"
    }
   ],
   "source": [
    "z_score_outliers(df2.horsepower)"
   ]
  },
  {
   "cell_type": "code",
   "execution_count": 24,
   "metadata": {},
   "outputs": [
    {
     "data": {
      "text/plain": [
       "18    47.0\n",
       "30    49.0\n",
       "90    45.0\n",
       "Name: city_mpg, dtype: float64"
      ]
     },
     "execution_count": 24,
     "metadata": {},
     "output_type": "execute_result"
    }
   ],
   "source": [
    "z_score_outliers(df2.city_mpg)"
   ]
  },
  {
   "cell_type": "code",
   "execution_count": 25,
   "metadata": {},
   "outputs": [
    {
     "data": {
      "text/plain": [
       "18    53.0\n",
       "30    54.0\n",
       "Name: highway_mpg, dtype: float64"
      ]
     },
     "execution_count": 25,
     "metadata": {},
     "output_type": "execute_result"
    }
   ],
   "source": [
    "z_score_outliers(df2.highway_mpg)"
   ]
  },
  {
   "cell_type": "markdown",
   "metadata": {},
   "source": [
    "## Scatter Plots"
   ]
  },
  {
   "cell_type": "markdown",
   "metadata": {},
   "source": [
    "Scatter plots are graphs that can detect outliers in multivariate settings. "
   ]
  },
  {
   "cell_type": "code",
   "execution_count": 26,
   "metadata": {},
   "outputs": [],
   "source": [
    "sns.pairplot(data=df2);"
   ]
  },
  {
   "cell_type": "markdown",
   "metadata": {},
   "source": [
    "Detect outliers in scatterplots is not as easy as in a univariate method like boxplot or z-score. \n",
    "\n",
    "Let's focus on horsepower vs. city_mpg"
   ]
  },
  {
   "cell_type": "code",
   "execution_count": 27,
   "metadata": {},
   "outputs": [],
   "source": [
    "sns.relplot(x=df2.horsepower, y=df2.city_mpg);"
   ]
  },
  {
   "cell_type": "markdown",
   "metadata": {},
   "source": [
    "It looks like the points in the right lower corner are outliers. Let's remove them."
   ]
  },
  {
   "cell_type": "code",
   "execution_count": 28,
   "metadata": {},
   "outputs": [],
   "source": [
    "# removing values with horsepower > 250\n",
    "df3 = df2[df2.horsepower < 250]"
   ]
  },
  {
   "cell_type": "code",
   "execution_count": 29,
   "metadata": {},
   "outputs": [],
   "source": [
    "# After removing possible outliers\n",
    "sns.relplot(x=df3.horsepower, y=df3.city_mpg);"
   ]
  },
  {
   "cell_type": "markdown",
   "metadata": {},
   "source": [
    "Let's compare the scatterplots before and after removing outliers."
   ]
  },
  {
   "cell_type": "code",
   "execution_count": 30,
   "metadata": {},
   "outputs": [],
   "source": [
    "# hosepower vs city_mpg\n",
    "plt.figure(figsize=(10,4))\n",
    "\n",
    "plt.subplot(121)\n",
    "plt.scatter(x=df2.horsepower, y=df2.city_mpg)\n",
    "plt.title('Before removing outliers')\n",
    "plt.xlabel('Horsepower')\n",
    "plt.ylabel('City MPG')\n",
    "\n",
    "plt.subplot(122)\n",
    "plt.scatter(x=df3.horsepower, y=df3.city_mpg)\n",
    "plt.title('After removing outliers')\n",
    "plt.xlabel('Horsepower')\n",
    "plt.ylabel('City MPG');"
   ]
  },
  {
   "cell_type": "code",
   "execution_count": 31,
   "metadata": {},
   "outputs": [],
   "source": [
    "# hosepower vs highway_mpg\n",
    "plt.figure(figsize=(10,4))\n",
    "\n",
    "plt.subplot(121)\n",
    "plt.scatter(x=df2.horsepower, y=df2.highway_mpg)\n",
    "plt.title('Before removing outliers')\n",
    "plt.xlabel('Horsepower')\n",
    "plt.ylabel('Highway MPG')\n",
    "\n",
    "plt.subplot(122)\n",
    "plt.scatter(x=df3.horsepower, y=df3.highway_mpg)\n",
    "plt.title('After removing outliers')\n",
    "plt.xlabel('Horsepower')\n",
    "plt.ylabel('Highway MPG');"
   ]
  },
  {
   "cell_type": "code",
   "execution_count": 32,
   "metadata": {},
   "outputs": [],
   "source": [
    "# highway_mpg vs city_mpg\n",
    "plt.figure(figsize=(10,4))\n",
    "\n",
    "plt.subplot(121)\n",
    "plt.scatter(x=df2.highway_mpg, y=df2.city_mpg)\n",
    "plt.title('Before removing outliers')\n",
    "plt.xlabel('Highway MPG')\n",
    "plt.ylabel('City MPG')\n",
    "\n",
    "plt.subplot(122)\n",
    "plt.scatter(x=df3.highway_mpg, y=df3.city_mpg)\n",
    "plt.title('After removing outliers')\n",
    "plt.xlabel('Highway MPG')\n",
    "plt.ylabel('City MPG');"
   ]
  },
  {
   "cell_type": "markdown",
   "metadata": {},
   "source": [
    "Notice that in these two last graphs there is no difference between before and after."
   ]
  },
  {
   "cell_type": "markdown",
   "metadata": {},
   "source": [
    "## References"
   ]
  },
  {
   "cell_type": "markdown",
   "metadata": {},
   "source": [
    "- VanderPlas, J. (2017) Python Data Science Handbook: Essential Tools for Working with Data. USA: O’Reilly Media, Inc. chapter 3"
   ]
  }
 ],
 "metadata": {
  "interpreter": {
   "hash": "f6ce50080babb3e2c9dded3d344b1d82a47cf5d6f13f4c2ab5a2113adb8feaef"
  },
  "kernelspec": {
   "display_name": "Python 3.10.5 64-bit (windows store)",
   "language": "python",
   "name": "python3"
  },
  "language_info": {
   "codemirror_mode": {
    "name": "ipython",
    "version": 3
   },
   "file_extension": ".py",
   "mimetype": "text/x-python",
   "name": "python",
   "nbconvert_exporter": "python",
   "pygments_lexer": "ipython3",
   "version": "3.11.0"
  },
  "orig_nbformat": 4
 },
 "nbformat": 4,
 "nbformat_minor": 2
}
