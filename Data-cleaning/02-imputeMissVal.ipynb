{
 "cells": [
  {
   "cell_type": "markdown",
   "metadata": {},
   "source": [
    "# Imputing Missing Values"
   ]
  },
  {
   "cell_type": "markdown",
   "metadata": {},
   "source": [
    "Imputation is the process of replacing missing data with substituted values to maintain the integrity of the dataset and enable accurate analysis. This technique helps to avoid the loss of valuable information and ensures that the dataset remains usable for statistical analysis and machine learning models."
   ]
  },
  {
   "cell_type": "markdown",
   "metadata": {},
   "source": [
    "## Objectives"
   ]
  },
  {
   "cell_type": "markdown",
   "metadata": {},
   "source": [
    "1. **Understand the Importance of Handling Missing Data**:\n",
    "   - Explain why missing data can be problematic in data analysis and machine learning.\n",
    "   - Discuss the potential impact of missing values on model performance and data integrity.\n",
    "\n",
    "2. **Identify Missing Data**:\n",
    "   - Demonstrate how to detect missing values in a dataset using various methods.\n",
    "   - Use visualizations to identify patterns and the extent of missing data.\n",
    "\n",
    "3. **Explore Different Imputation Techniques**:\n",
    "   - **Simple Imputation**:\n",
    "     - Mean, median, and mode imputation.\n",
    "     - Forward fill and backward fill methods.\n",
    "   - **Advanced Imputation**:\n",
    "     - K-Nearest Neighbors (KNN) imputation.\n",
    "     - Multivariate imputation by chained equations (MICE).\n",
    "     - Using machine learning models for imputation.\n",
    "\n",
    "4. **Implement Imputation Techniques**:\n",
    "   - Provide code examples for each imputation method using popular libraries such as Pandas, Scikit-learn, and fancyimpute.\n",
    "   - Compare the results of different imputation techniques.\n",
    "\n",
    "5. **Evaluate the Impact of Imputation**:\n",
    "   - Assess how different imputation methods affect the dataset.\n",
    "   - Use statistical measures and visualizations to compare the distributions before and after imputation.\n",
    "\n",
    "6. **Best Practices and Considerations**:\n",
    "   - Discuss when to use each imputation method.\n",
    "   - Highlight potential pitfalls and how to avoid them.\n",
    "   - Provide guidelines for choosing the appropriate imputation technique based on the dataset and problem context.\n",
    "\n",
    "7. **Practical Application**:\n",
    "   - Apply imputation techniques to a real-world dataset.\n",
    "   - Demonstrate the end-to-end process from identifying missing values to evaluating the impact of imputation on model performance.\n",
    "\n",
    "8. **Conclusion and Next Steps**:\n",
    "   - Summarize key takeaways from the notebook.\n",
    "   - Suggest further reading and advanced topics related to missing data imputation."
   ]
  },
  {
   "cell_type": "markdown",
   "metadata": {},
   "source": [
    "## Background"
   ]
  },
  {
   "cell_type": "markdown",
   "metadata": {},
   "source": [
    "The notebook provides an in-depth tutorial on various methods for imputing missing values in data using Python. "
   ]
  },
  {
   "cell_type": "markdown",
   "metadata": {},
   "source": [
    "## Datasets Used"
   ]
  },
  {
   "cell_type": "markdown",
   "metadata": {},
   "source": [
    "- **Sample DataFrame of Students**: This dataframe consists of artificially created missing values in the 'Age', 'Sex', and 'GPA' fields to illustrate basic imputation techniques.\n",
    "- **Time Series Data**: A dataset with dates and production values used to demonstrate interpolation methods suitable for time series data.\n",
    "- **Product Data**: It illustrates advanced imputation methods like KNN, showcasing how to handle missing values more contextually."
   ]
  },
  {
   "cell_type": "markdown",
   "metadata": {},
   "source": [
    "## Basic Imputation"
   ]
  },
  {
   "cell_type": "code",
   "execution_count": 1,
   "metadata": {},
   "outputs": [],
   "source": [
    "import numpy as np\n",
    "import pandas as pd\n",
    "pd.set_eng_float_format(accuracy=2, use_eng_prefix=True)"
   ]
  },
  {
   "cell_type": "markdown",
   "metadata": {},
   "source": [
    "Based on similar data, we will impute (guess) the missing values (using the mean, median, mode, etc.)"
   ]
  },
  {
   "cell_type": "code",
   "execution_count": 2,
   "metadata": {},
   "outputs": [
    {
     "data": {
      "text/html": [
       "<div>\n",
       "<style scoped>\n",
       "    .dataframe tbody tr th:only-of-type {\n",
       "        vertical-align: middle;\n",
       "    }\n",
       "\n",
       "    .dataframe tbody tr th {\n",
       "        vertical-align: top;\n",
       "    }\n",
       "\n",
       "    .dataframe thead th {\n",
       "        text-align: right;\n",
       "    }\n",
       "</style>\n",
       "<table border=\"1\" class=\"dataframe\">\n",
       "  <thead>\n",
       "    <tr style=\"text-align: right;\">\n",
       "      <th></th>\n",
       "      <th>studentID</th>\n",
       "      <th>Age</th>\n",
       "      <th>Sex</th>\n",
       "      <th>GPA</th>\n",
       "    </tr>\n",
       "  </thead>\n",
       "  <tbody>\n",
       "    <tr>\n",
       "      <th>0</th>\n",
       "      <td>st_100</td>\n",
       "      <td>17.00</td>\n",
       "      <td>M</td>\n",
       "      <td>3.70</td>\n",
       "    </tr>\n",
       "    <tr>\n",
       "      <th>1</th>\n",
       "      <td>st_101</td>\n",
       "      <td>17.00</td>\n",
       "      <td>M</td>\n",
       "      <td>NaN</td>\n",
       "    </tr>\n",
       "    <tr>\n",
       "      <th>2</th>\n",
       "      <td>st_102</td>\n",
       "      <td>NaN</td>\n",
       "      <td>M</td>\n",
       "      <td>2.40</td>\n",
       "    </tr>\n",
       "    <tr>\n",
       "      <th>3</th>\n",
       "      <td>st_103</td>\n",
       "      <td>NaN</td>\n",
       "      <td>F</td>\n",
       "      <td>NaN</td>\n",
       "    </tr>\n",
       "    <tr>\n",
       "      <th>4</th>\n",
       "      <td>st_104</td>\n",
       "      <td>19.00</td>\n",
       "      <td>NaN</td>\n",
       "      <td>3.00</td>\n",
       "    </tr>\n",
       "  </tbody>\n",
       "</table>\n",
       "</div>"
      ],
      "text/plain": [
       "  studentID    Age  Sex   GPA\n",
       "0    st_100  17.00    M  3.70\n",
       "1    st_101  17.00    M   NaN\n",
       "2    st_102    NaN    M  2.40\n",
       "3    st_103    NaN    F   NaN\n",
       "4    st_104  19.00  NaN  3.00"
      ]
     },
     "execution_count": 2,
     "metadata": {},
     "output_type": "execute_result"
    }
   ],
   "source": [
    "# Create a sample DataFrame\n",
    "students = [\n",
    "    ['st_100', 17, 'M', 3.7],\n",
    "    ['st_101', 17, 'M', np.nan],\n",
    "    ['st_102', np.nan, 'M', 2.4],\n",
    "    ['st_103', np.nan, 'F', np.nan],\n",
    "    ['st_104', 19, np.nan, 3]\n",
    "]\n",
    "df = pd.DataFrame(students, columns=['studentID', 'Age', 'Sex', 'GPA'])\n",
    "df"
   ]
  },
  {
   "cell_type": "code",
   "execution_count": 3,
   "metadata": {},
   "outputs": [
    {
     "data": {
      "text/html": [
       "<div>\n",
       "<style scoped>\n",
       "    .dataframe tbody tr th:only-of-type {\n",
       "        vertical-align: middle;\n",
       "    }\n",
       "\n",
       "    .dataframe tbody tr th {\n",
       "        vertical-align: top;\n",
       "    }\n",
       "\n",
       "    .dataframe thead th {\n",
       "        text-align: right;\n",
       "    }\n",
       "</style>\n",
       "<table border=\"1\" class=\"dataframe\">\n",
       "  <thead>\n",
       "    <tr style=\"text-align: right;\">\n",
       "      <th></th>\n",
       "      <th>studentID</th>\n",
       "      <th>Age</th>\n",
       "      <th>Sex</th>\n",
       "      <th>GPA</th>\n",
       "    </tr>\n",
       "  </thead>\n",
       "  <tbody>\n",
       "    <tr>\n",
       "      <th>0</th>\n",
       "      <td>st_100</td>\n",
       "      <td>17.00</td>\n",
       "      <td>M</td>\n",
       "      <td>3.70</td>\n",
       "    </tr>\n",
       "    <tr>\n",
       "      <th>1</th>\n",
       "      <td>st_101</td>\n",
       "      <td>17.00</td>\n",
       "      <td>M</td>\n",
       "      <td>0.00</td>\n",
       "    </tr>\n",
       "    <tr>\n",
       "      <th>2</th>\n",
       "      <td>st_102</td>\n",
       "      <td>0.00</td>\n",
       "      <td>M</td>\n",
       "      <td>2.40</td>\n",
       "    </tr>\n",
       "    <tr>\n",
       "      <th>3</th>\n",
       "      <td>st_103</td>\n",
       "      <td>0.00</td>\n",
       "      <td>F</td>\n",
       "      <td>0.00</td>\n",
       "    </tr>\n",
       "    <tr>\n",
       "      <th>4</th>\n",
       "      <td>st_104</td>\n",
       "      <td>19.00</td>\n",
       "      <td>0</td>\n",
       "      <td>3.00</td>\n",
       "    </tr>\n",
       "  </tbody>\n",
       "</table>\n",
       "</div>"
      ],
      "text/plain": [
       "  studentID    Age Sex   GPA\n",
       "0    st_100  17.00   M  3.70\n",
       "1    st_101  17.00   M  0.00\n",
       "2    st_102   0.00   M  2.40\n",
       "3    st_103   0.00   F  0.00\n",
       "4    st_104  19.00   0  3.00"
      ]
     },
     "execution_count": 3,
     "metadata": {},
     "output_type": "execute_result"
    }
   ],
   "source": [
    "# Fill NaN entries with zero\n",
    "df.fillna(0)"
   ]
  },
  {
   "cell_type": "code",
   "execution_count": 4,
   "metadata": {},
   "outputs": [
    {
     "data": {
      "text/html": [
       "<div>\n",
       "<style scoped>\n",
       "    .dataframe tbody tr th:only-of-type {\n",
       "        vertical-align: middle;\n",
       "    }\n",
       "\n",
       "    .dataframe tbody tr th {\n",
       "        vertical-align: top;\n",
       "    }\n",
       "\n",
       "    .dataframe thead th {\n",
       "        text-align: right;\n",
       "    }\n",
       "</style>\n",
       "<table border=\"1\" class=\"dataframe\">\n",
       "  <thead>\n",
       "    <tr style=\"text-align: right;\">\n",
       "      <th></th>\n",
       "      <th>studentID</th>\n",
       "      <th>Age</th>\n",
       "      <th>Sex</th>\n",
       "      <th>GPA</th>\n",
       "    </tr>\n",
       "  </thead>\n",
       "  <tbody>\n",
       "    <tr>\n",
       "      <th>0</th>\n",
       "      <td>st_100</td>\n",
       "      <td>17.00</td>\n",
       "      <td>M</td>\n",
       "      <td>3.70</td>\n",
       "    </tr>\n",
       "    <tr>\n",
       "      <th>1</th>\n",
       "      <td>st_101</td>\n",
       "      <td>17.00</td>\n",
       "      <td>M</td>\n",
       "      <td>NaN</td>\n",
       "    </tr>\n",
       "    <tr>\n",
       "      <th>2</th>\n",
       "      <td>st_102</td>\n",
       "      <td>NaN</td>\n",
       "      <td>M</td>\n",
       "      <td>2.40</td>\n",
       "    </tr>\n",
       "    <tr>\n",
       "      <th>3</th>\n",
       "      <td>st_103</td>\n",
       "      <td>NaN</td>\n",
       "      <td>F</td>\n",
       "      <td>NaN</td>\n",
       "    </tr>\n",
       "    <tr>\n",
       "      <th>4</th>\n",
       "      <td>st_104</td>\n",
       "      <td>19.00</td>\n",
       "      <td>NaN</td>\n",
       "      <td>3.00</td>\n",
       "    </tr>\n",
       "  </tbody>\n",
       "</table>\n",
       "</div>"
      ],
      "text/plain": [
       "  studentID    Age  Sex   GPA\n",
       "0    st_100  17.00    M  3.70\n",
       "1    st_101  17.00    M   NaN\n",
       "2    st_102    NaN    M  2.40\n",
       "3    st_103    NaN    F   NaN\n",
       "4    st_104  19.00  NaN  3.00"
      ]
     },
     "execution_count": 4,
     "metadata": {},
     "output_type": "execute_result"
    }
   ],
   "source": [
    "# The previous instruction does not affect the DataFrame df\n",
    "df"
   ]
  },
  {
   "cell_type": "markdown",
   "metadata": {},
   "source": [
    "We can replace the missing values with any value."
   ]
  },
  {
   "cell_type": "code",
   "execution_count": 5,
   "metadata": {},
   "outputs": [
    {
     "data": {
      "text/html": [
       "<div>\n",
       "<style scoped>\n",
       "    .dataframe tbody tr th:only-of-type {\n",
       "        vertical-align: middle;\n",
       "    }\n",
       "\n",
       "    .dataframe tbody tr th {\n",
       "        vertical-align: top;\n",
       "    }\n",
       "\n",
       "    .dataframe thead th {\n",
       "        text-align: right;\n",
       "    }\n",
       "</style>\n",
       "<table border=\"1\" class=\"dataframe\">\n",
       "  <thead>\n",
       "    <tr style=\"text-align: right;\">\n",
       "      <th></th>\n",
       "      <th>studentID</th>\n",
       "      <th>Age</th>\n",
       "      <th>Sex</th>\n",
       "      <th>GPA</th>\n",
       "    </tr>\n",
       "  </thead>\n",
       "  <tbody>\n",
       "    <tr>\n",
       "      <th>0</th>\n",
       "      <td>st_100</td>\n",
       "      <td>17.00</td>\n",
       "      <td>M</td>\n",
       "      <td>3.70</td>\n",
       "    </tr>\n",
       "    <tr>\n",
       "      <th>1</th>\n",
       "      <td>st_101</td>\n",
       "      <td>17.00</td>\n",
       "      <td>M</td>\n",
       "      <td>100.00</td>\n",
       "    </tr>\n",
       "    <tr>\n",
       "      <th>2</th>\n",
       "      <td>st_102</td>\n",
       "      <td>100.00</td>\n",
       "      <td>M</td>\n",
       "      <td>2.40</td>\n",
       "    </tr>\n",
       "    <tr>\n",
       "      <th>3</th>\n",
       "      <td>st_103</td>\n",
       "      <td>100.00</td>\n",
       "      <td>F</td>\n",
       "      <td>100.00</td>\n",
       "    </tr>\n",
       "    <tr>\n",
       "      <th>4</th>\n",
       "      <td>st_104</td>\n",
       "      <td>19.00</td>\n",
       "      <td>100</td>\n",
       "      <td>3.00</td>\n",
       "    </tr>\n",
       "  </tbody>\n",
       "</table>\n",
       "</div>"
      ],
      "text/plain": [
       "  studentID     Age  Sex     GPA\n",
       "0    st_100   17.00    M    3.70\n",
       "1    st_101   17.00    M  100.00\n",
       "2    st_102  100.00    M    2.40\n",
       "3    st_103  100.00    F  100.00\n",
       "4    st_104   19.00  100    3.00"
      ]
     },
     "execution_count": 5,
     "metadata": {},
     "output_type": "execute_result"
    }
   ],
   "source": [
    "# Fill NaN entries with 100\n",
    "df.fillna(100)"
   ]
  },
  {
   "cell_type": "markdown",
   "metadata": {},
   "source": [
    "You can specify a forward-fill (`ffill`) to propagate the previous value forward. Notice that the result changes if you previously sort the DataFrame!"
   ]
  },
  {
   "cell_type": "code",
   "execution_count": 6,
   "metadata": {},
   "outputs": [
    {
     "name": "stdout",
     "output_type": "stream",
     "text": [
      "Original DataFrame\n",
      "   studentID    Age  Sex   GPA\n",
      "0    st_100  17.00    M  3.70\n",
      "1    st_101  17.00    M   NaN\n",
      "2    st_102    NaN    M  2.40\n",
      "3    st_103    NaN    F   NaN\n",
      "4    st_104  19.00  NaN  3.00\n"
     ]
    },
    {
     "data": {
      "text/html": [
       "<div>\n",
       "<style scoped>\n",
       "    .dataframe tbody tr th:only-of-type {\n",
       "        vertical-align: middle;\n",
       "    }\n",
       "\n",
       "    .dataframe tbody tr th {\n",
       "        vertical-align: top;\n",
       "    }\n",
       "\n",
       "    .dataframe thead th {\n",
       "        text-align: right;\n",
       "    }\n",
       "</style>\n",
       "<table border=\"1\" class=\"dataframe\">\n",
       "  <thead>\n",
       "    <tr style=\"text-align: right;\">\n",
       "      <th></th>\n",
       "      <th>studentID</th>\n",
       "      <th>Age</th>\n",
       "      <th>Sex</th>\n",
       "      <th>GPA</th>\n",
       "    </tr>\n",
       "  </thead>\n",
       "  <tbody>\n",
       "    <tr>\n",
       "      <th>0</th>\n",
       "      <td>st_100</td>\n",
       "      <td>17.00</td>\n",
       "      <td>M</td>\n",
       "      <td>3.70</td>\n",
       "    </tr>\n",
       "    <tr>\n",
       "      <th>1</th>\n",
       "      <td>st_101</td>\n",
       "      <td>17.00</td>\n",
       "      <td>M</td>\n",
       "      <td>3.70</td>\n",
       "    </tr>\n",
       "    <tr>\n",
       "      <th>2</th>\n",
       "      <td>st_102</td>\n",
       "      <td>17.00</td>\n",
       "      <td>M</td>\n",
       "      <td>2.40</td>\n",
       "    </tr>\n",
       "    <tr>\n",
       "      <th>3</th>\n",
       "      <td>st_103</td>\n",
       "      <td>17.00</td>\n",
       "      <td>F</td>\n",
       "      <td>2.40</td>\n",
       "    </tr>\n",
       "    <tr>\n",
       "      <th>4</th>\n",
       "      <td>st_104</td>\n",
       "      <td>19.00</td>\n",
       "      <td>F</td>\n",
       "      <td>3.00</td>\n",
       "    </tr>\n",
       "  </tbody>\n",
       "</table>\n",
       "</div>"
      ],
      "text/plain": [
       "  studentID    Age Sex   GPA\n",
       "0    st_100  17.00   M  3.70\n",
       "1    st_101  17.00   M  3.70\n",
       "2    st_102  17.00   M  2.40\n",
       "3    st_103  17.00   F  2.40\n",
       "4    st_104  19.00   F  3.00"
      ]
     },
     "execution_count": 6,
     "metadata": {},
     "output_type": "execute_result"
    }
   ],
   "source": [
    "# Using ffill to fill forward\n",
    "print('Original DataFrame\\n', df)\n",
    "df.ffill()"
   ]
  },
  {
   "cell_type": "markdown",
   "metadata": {},
   "source": [
    "When `ffill` finds a `NaN` value, it replaces `NaN` for the value in the previous row of the same column. Notice that `NaN` values in the first row remain the same. You are propagating the values down row to row."
   ]
  },
  {
   "cell_type": "markdown",
   "metadata": {},
   "source": [
    "\n",
    "You can specify `axis=1` to propagate the values to the right column to column."
   ]
  },
  {
   "cell_type": "code",
   "execution_count": 7,
   "metadata": {},
   "outputs": [
    {
     "name": "stdout",
     "output_type": "stream",
     "text": [
      "Original DataFrame\n",
      "   studentID    Age  Sex   GPA\n",
      "0    st_100  17.00    M  3.70\n",
      "1    st_101  17.00    M   NaN\n",
      "2    st_102    NaN    M  2.40\n",
      "3    st_103    NaN    F   NaN\n",
      "4    st_104  19.00  NaN  3.00\n"
     ]
    },
    {
     "data": {
      "text/html": [
       "<div>\n",
       "<style scoped>\n",
       "    .dataframe tbody tr th:only-of-type {\n",
       "        vertical-align: middle;\n",
       "    }\n",
       "\n",
       "    .dataframe tbody tr th {\n",
       "        vertical-align: top;\n",
       "    }\n",
       "\n",
       "    .dataframe thead th {\n",
       "        text-align: right;\n",
       "    }\n",
       "</style>\n",
       "<table border=\"1\" class=\"dataframe\">\n",
       "  <thead>\n",
       "    <tr style=\"text-align: right;\">\n",
       "      <th></th>\n",
       "      <th>studentID</th>\n",
       "      <th>Age</th>\n",
       "      <th>Sex</th>\n",
       "      <th>GPA</th>\n",
       "    </tr>\n",
       "  </thead>\n",
       "  <tbody>\n",
       "    <tr>\n",
       "      <th>0</th>\n",
       "      <td>st_100</td>\n",
       "      <td>17.00</td>\n",
       "      <td>M</td>\n",
       "      <td>3.70</td>\n",
       "    </tr>\n",
       "    <tr>\n",
       "      <th>1</th>\n",
       "      <td>st_101</td>\n",
       "      <td>17.00</td>\n",
       "      <td>M</td>\n",
       "      <td>M</td>\n",
       "    </tr>\n",
       "    <tr>\n",
       "      <th>2</th>\n",
       "      <td>st_102</td>\n",
       "      <td>st_102</td>\n",
       "      <td>M</td>\n",
       "      <td>2.40</td>\n",
       "    </tr>\n",
       "    <tr>\n",
       "      <th>3</th>\n",
       "      <td>st_103</td>\n",
       "      <td>st_103</td>\n",
       "      <td>F</td>\n",
       "      <td>F</td>\n",
       "    </tr>\n",
       "    <tr>\n",
       "      <th>4</th>\n",
       "      <td>st_104</td>\n",
       "      <td>19.00</td>\n",
       "      <td>19.00</td>\n",
       "      <td>3.00</td>\n",
       "    </tr>\n",
       "  </tbody>\n",
       "</table>\n",
       "</div>"
      ],
      "text/plain": [
       "  studentID     Age    Sex   GPA\n",
       "0    st_100   17.00      M  3.70\n",
       "1    st_101   17.00      M     M\n",
       "2    st_102  st_102      M  2.40\n",
       "3    st_103  st_103      F     F\n",
       "4    st_104   19.00  19.00  3.00"
      ]
     },
     "execution_count": 7,
     "metadata": {},
     "output_type": "execute_result"
    }
   ],
   "source": [
    "# Using forward-fill to propagate the previous value forward. \n",
    "print('Original DataFrame\\n', df)\n",
    "df.ffill(axis=1)"
   ]
  },
  {
   "cell_type": "markdown",
   "metadata": {},
   "source": [
    "When `ffill` finds `NaN` values and `axis=1`, it replaces `NaN` for the value in the previous column of the same row. \n",
    "\n",
    "Notice that: \n",
    "- `NaN` values in the first column and the subsequent columns with preceding NaN values remain the same.\n",
    "- In our case, this behavior does not make sense because we get the value `st_102` in the `Age` column, and 'F' in `GPA` column. "
   ]
  },
  {
   "cell_type": "markdown",
   "metadata": {},
   "source": [
    "You can use back-fill to propagate the next values backward"
   ]
  },
  {
   "cell_type": "code",
   "execution_count": 8,
   "metadata": {},
   "outputs": [
    {
     "name": "stdout",
     "output_type": "stream",
     "text": [
      "Original DataFrame\n",
      "   studentID    Age  Sex   GPA\n",
      "0    st_100  17.00    M  3.70\n",
      "1    st_101  17.00    M   NaN\n",
      "2    st_102    NaN    M  2.40\n",
      "3    st_103    NaN    F   NaN\n",
      "4    st_104  19.00  NaN  3.00\n"
     ]
    },
    {
     "data": {
      "text/html": [
       "<div>\n",
       "<style scoped>\n",
       "    .dataframe tbody tr th:only-of-type {\n",
       "        vertical-align: middle;\n",
       "    }\n",
       "\n",
       "    .dataframe tbody tr th {\n",
       "        vertical-align: top;\n",
       "    }\n",
       "\n",
       "    .dataframe thead th {\n",
       "        text-align: right;\n",
       "    }\n",
       "</style>\n",
       "<table border=\"1\" class=\"dataframe\">\n",
       "  <thead>\n",
       "    <tr style=\"text-align: right;\">\n",
       "      <th></th>\n",
       "      <th>studentID</th>\n",
       "      <th>Age</th>\n",
       "      <th>Sex</th>\n",
       "      <th>GPA</th>\n",
       "    </tr>\n",
       "  </thead>\n",
       "  <tbody>\n",
       "    <tr>\n",
       "      <th>0</th>\n",
       "      <td>st_100</td>\n",
       "      <td>17.00</td>\n",
       "      <td>M</td>\n",
       "      <td>3.70</td>\n",
       "    </tr>\n",
       "    <tr>\n",
       "      <th>1</th>\n",
       "      <td>st_101</td>\n",
       "      <td>17.00</td>\n",
       "      <td>M</td>\n",
       "      <td>2.40</td>\n",
       "    </tr>\n",
       "    <tr>\n",
       "      <th>2</th>\n",
       "      <td>st_102</td>\n",
       "      <td>19.00</td>\n",
       "      <td>M</td>\n",
       "      <td>2.40</td>\n",
       "    </tr>\n",
       "    <tr>\n",
       "      <th>3</th>\n",
       "      <td>st_103</td>\n",
       "      <td>19.00</td>\n",
       "      <td>F</td>\n",
       "      <td>3.00</td>\n",
       "    </tr>\n",
       "    <tr>\n",
       "      <th>4</th>\n",
       "      <td>st_104</td>\n",
       "      <td>19.00</td>\n",
       "      <td>NaN</td>\n",
       "      <td>3.00</td>\n",
       "    </tr>\n",
       "  </tbody>\n",
       "</table>\n",
       "</div>"
      ],
      "text/plain": [
       "  studentID    Age  Sex   GPA\n",
       "0    st_100  17.00    M  3.70\n",
       "1    st_101  17.00    M  2.40\n",
       "2    st_102  19.00    M  2.40\n",
       "3    st_103  19.00    F  3.00\n",
       "4    st_104  19.00  NaN  3.00"
      ]
     },
     "execution_count": 8,
     "metadata": {},
     "output_type": "execute_result"
    }
   ],
   "source": [
    "# back-fill to propagate the next values backward\n",
    "print('Original DataFrame\\n', df)\n",
    "df.bfill()"
   ]
  },
  {
   "cell_type": "code",
   "execution_count": 9,
   "metadata": {},
   "outputs": [
    {
     "name": "stdout",
     "output_type": "stream",
     "text": [
      "Original DataFrame\n",
      "   studentID    Age  Sex   GPA\n",
      "0    st_100  17.00    M  3.70\n",
      "1    st_101  17.00    M   NaN\n",
      "2    st_102    NaN    M  2.40\n",
      "3    st_103    NaN    F   NaN\n",
      "4    st_104  19.00  NaN  3.00\n"
     ]
    },
    {
     "data": {
      "text/html": [
       "<div>\n",
       "<style scoped>\n",
       "    .dataframe tbody tr th:only-of-type {\n",
       "        vertical-align: middle;\n",
       "    }\n",
       "\n",
       "    .dataframe tbody tr th {\n",
       "        vertical-align: top;\n",
       "    }\n",
       "\n",
       "    .dataframe thead th {\n",
       "        text-align: right;\n",
       "    }\n",
       "</style>\n",
       "<table border=\"1\" class=\"dataframe\">\n",
       "  <thead>\n",
       "    <tr style=\"text-align: right;\">\n",
       "      <th></th>\n",
       "      <th>studentID</th>\n",
       "      <th>Age</th>\n",
       "      <th>Sex</th>\n",
       "      <th>GPA</th>\n",
       "    </tr>\n",
       "  </thead>\n",
       "  <tbody>\n",
       "    <tr>\n",
       "      <th>0</th>\n",
       "      <td>st_100</td>\n",
       "      <td>17.00</td>\n",
       "      <td>M</td>\n",
       "      <td>3.70</td>\n",
       "    </tr>\n",
       "    <tr>\n",
       "      <th>1</th>\n",
       "      <td>st_101</td>\n",
       "      <td>17.00</td>\n",
       "      <td>M</td>\n",
       "      <td>NaN</td>\n",
       "    </tr>\n",
       "    <tr>\n",
       "      <th>2</th>\n",
       "      <td>st_102</td>\n",
       "      <td>M</td>\n",
       "      <td>M</td>\n",
       "      <td>2.40</td>\n",
       "    </tr>\n",
       "    <tr>\n",
       "      <th>3</th>\n",
       "      <td>st_103</td>\n",
       "      <td>F</td>\n",
       "      <td>F</td>\n",
       "      <td>NaN</td>\n",
       "    </tr>\n",
       "    <tr>\n",
       "      <th>4</th>\n",
       "      <td>st_104</td>\n",
       "      <td>19.00</td>\n",
       "      <td>3.00</td>\n",
       "      <td>3.00</td>\n",
       "    </tr>\n",
       "  </tbody>\n",
       "</table>\n",
       "</div>"
      ],
      "text/plain": [
       "  studentID    Age   Sex   GPA\n",
       "0    st_100  17.00     M  3.70\n",
       "1    st_101  17.00     M   NaN\n",
       "2    st_102      M     M  2.40\n",
       "3    st_103      F     F   NaN\n",
       "4    st_104  19.00  3.00  3.00"
      ]
     },
     "execution_count": 9,
     "metadata": {},
     "output_type": "execute_result"
    }
   ],
   "source": [
    "# back-fill to propagate the next values to the left\n",
    "print('Original DataFrame\\n', df)\n",
    "df.bfill(axis=1)"
   ]
  },
  {
   "cell_type": "markdown",
   "metadata": {},
   "source": [
    "Again, in our case, this option is nonsense. Notice that `Age` column has values of `M` and `F`!"
   ]
  },
  {
   "cell_type": "markdown",
   "metadata": {},
   "source": [
    "## Replacing Missing Values with a Central Tendency Measure"
   ]
  },
  {
   "cell_type": "markdown",
   "metadata": {},
   "source": [
    "There are a lot of techniques for replacing missing values. For instance, we can replace missing values in a numeric column by using a measure of central tendency."
   ]
  },
  {
   "cell_type": "markdown",
   "metadata": {},
   "source": [
    "### Replacing Missing Values with the Mean"
   ]
  },
  {
   "cell_type": "markdown",
   "metadata": {},
   "source": [
    "Suppose we want to replace all the missing values of the DataFrame with its mean value. Let's do it with the numeric columns: `Age` and `GPA`."
   ]
  },
  {
   "cell_type": "code",
   "execution_count": 10,
   "metadata": {},
   "outputs": [
    {
     "data": {
      "text/plain": [
       "Age    17.67\n",
       "GPA     3.03\n",
       "dtype: float64"
      ]
     },
     "execution_count": 10,
     "metadata": {},
     "output_type": "execute_result"
    }
   ],
   "source": [
    "# Calculating the mean\n",
    "df[['Age','GPA']].mean()"
   ]
  },
  {
   "cell_type": "markdown",
   "metadata": {},
   "source": [
    "We can replace the missing values with the mean in each column. Let's do it!"
   ]
  },
  {
   "cell_type": "code",
   "execution_count": 11,
   "metadata": {},
   "outputs": [
    {
     "data": {
      "text/html": [
       "<div>\n",
       "<style scoped>\n",
       "    .dataframe tbody tr th:only-of-type {\n",
       "        vertical-align: middle;\n",
       "    }\n",
       "\n",
       "    .dataframe tbody tr th {\n",
       "        vertical-align: top;\n",
       "    }\n",
       "\n",
       "    .dataframe thead th {\n",
       "        text-align: right;\n",
       "    }\n",
       "</style>\n",
       "<table border=\"1\" class=\"dataframe\">\n",
       "  <thead>\n",
       "    <tr style=\"text-align: right;\">\n",
       "      <th></th>\n",
       "      <th>Age</th>\n",
       "      <th>GPA</th>\n",
       "    </tr>\n",
       "  </thead>\n",
       "  <tbody>\n",
       "    <tr>\n",
       "      <th>0</th>\n",
       "      <td>17.00</td>\n",
       "      <td>3.70</td>\n",
       "    </tr>\n",
       "    <tr>\n",
       "      <th>1</th>\n",
       "      <td>17.00</td>\n",
       "      <td>3.03</td>\n",
       "    </tr>\n",
       "    <tr>\n",
       "      <th>2</th>\n",
       "      <td>17.67</td>\n",
       "      <td>2.40</td>\n",
       "    </tr>\n",
       "    <tr>\n",
       "      <th>3</th>\n",
       "      <td>17.67</td>\n",
       "      <td>3.03</td>\n",
       "    </tr>\n",
       "    <tr>\n",
       "      <th>4</th>\n",
       "      <td>19.00</td>\n",
       "      <td>3.00</td>\n",
       "    </tr>\n",
       "  </tbody>\n",
       "</table>\n",
       "</div>"
      ],
      "text/plain": [
       "     Age   GPA\n",
       "0  17.00  3.70\n",
       "1  17.00  3.03\n",
       "2  17.67  2.40\n",
       "3  17.67  3.03\n",
       "4  19.00  3.00"
      ]
     },
     "execution_count": 11,
     "metadata": {},
     "output_type": "execute_result"
    }
   ],
   "source": [
    "# filling missing values with mean column values\n",
    "df_mean = df[['Age','GPA']].fillna(df[['Age','GPA']].mean())\n",
    "df_mean"
   ]
  },
  {
   "cell_type": "code",
   "execution_count": 12,
   "metadata": {},
   "outputs": [
    {
     "data": {
      "text/html": [
       "<div>\n",
       "<style scoped>\n",
       "    .dataframe tbody tr th:only-of-type {\n",
       "        vertical-align: middle;\n",
       "    }\n",
       "\n",
       "    .dataframe tbody tr th {\n",
       "        vertical-align: top;\n",
       "    }\n",
       "\n",
       "    .dataframe thead th {\n",
       "        text-align: right;\n",
       "    }\n",
       "</style>\n",
       "<table border=\"1\" class=\"dataframe\">\n",
       "  <thead>\n",
       "    <tr style=\"text-align: right;\">\n",
       "      <th></th>\n",
       "      <th>Age</th>\n",
       "      <th>GPA</th>\n",
       "      <th>studentID</th>\n",
       "      <th>Sex</th>\n",
       "    </tr>\n",
       "  </thead>\n",
       "  <tbody>\n",
       "    <tr>\n",
       "      <th>0</th>\n",
       "      <td>17.00</td>\n",
       "      <td>3.70</td>\n",
       "      <td>st_100</td>\n",
       "      <td>M</td>\n",
       "    </tr>\n",
       "    <tr>\n",
       "      <th>1</th>\n",
       "      <td>17.00</td>\n",
       "      <td>3.03</td>\n",
       "      <td>st_101</td>\n",
       "      <td>M</td>\n",
       "    </tr>\n",
       "    <tr>\n",
       "      <th>2</th>\n",
       "      <td>17.67</td>\n",
       "      <td>2.40</td>\n",
       "      <td>st_102</td>\n",
       "      <td>M</td>\n",
       "    </tr>\n",
       "    <tr>\n",
       "      <th>3</th>\n",
       "      <td>17.67</td>\n",
       "      <td>3.03</td>\n",
       "      <td>st_103</td>\n",
       "      <td>F</td>\n",
       "    </tr>\n",
       "    <tr>\n",
       "      <th>4</th>\n",
       "      <td>19.00</td>\n",
       "      <td>3.00</td>\n",
       "      <td>st_104</td>\n",
       "      <td>NaN</td>\n",
       "    </tr>\n",
       "  </tbody>\n",
       "</table>\n",
       "</div>"
      ],
      "text/plain": [
       "     Age   GPA studentID  Sex\n",
       "0  17.00  3.70    st_100    M\n",
       "1  17.00  3.03    st_101    M\n",
       "2  17.67  2.40    st_102    M\n",
       "3  17.67  3.03    st_103    F\n",
       "4  19.00  3.00    st_104  NaN"
      ]
     },
     "execution_count": 12,
     "metadata": {},
     "output_type": "execute_result"
    }
   ],
   "source": [
    "# Completing with the other columns\n",
    "df_mean['studentID'] = df.studentID\n",
    "df_mean['Sex'] = df.Sex\n",
    "df_mean"
   ]
  },
  {
   "cell_type": "code",
   "execution_count": 13,
   "metadata": {},
   "outputs": [
    {
     "data": {
      "text/html": [
       "<div>\n",
       "<style scoped>\n",
       "    .dataframe tbody tr th:only-of-type {\n",
       "        vertical-align: middle;\n",
       "    }\n",
       "\n",
       "    .dataframe tbody tr th {\n",
       "        vertical-align: top;\n",
       "    }\n",
       "\n",
       "    .dataframe thead th {\n",
       "        text-align: right;\n",
       "    }\n",
       "</style>\n",
       "<table border=\"1\" class=\"dataframe\">\n",
       "  <thead>\n",
       "    <tr style=\"text-align: right;\">\n",
       "      <th></th>\n",
       "      <th>studentID</th>\n",
       "      <th>Age</th>\n",
       "      <th>Sex</th>\n",
       "      <th>GPA</th>\n",
       "    </tr>\n",
       "  </thead>\n",
       "  <tbody>\n",
       "    <tr>\n",
       "      <th>0</th>\n",
       "      <td>st_100</td>\n",
       "      <td>17.00</td>\n",
       "      <td>M</td>\n",
       "      <td>3.70</td>\n",
       "    </tr>\n",
       "    <tr>\n",
       "      <th>1</th>\n",
       "      <td>st_101</td>\n",
       "      <td>17.00</td>\n",
       "      <td>M</td>\n",
       "      <td>3.03</td>\n",
       "    </tr>\n",
       "    <tr>\n",
       "      <th>2</th>\n",
       "      <td>st_102</td>\n",
       "      <td>17.67</td>\n",
       "      <td>M</td>\n",
       "      <td>2.40</td>\n",
       "    </tr>\n",
       "    <tr>\n",
       "      <th>3</th>\n",
       "      <td>st_103</td>\n",
       "      <td>17.67</td>\n",
       "      <td>F</td>\n",
       "      <td>3.03</td>\n",
       "    </tr>\n",
       "    <tr>\n",
       "      <th>4</th>\n",
       "      <td>st_104</td>\n",
       "      <td>19.00</td>\n",
       "      <td>NaN</td>\n",
       "      <td>3.00</td>\n",
       "    </tr>\n",
       "  </tbody>\n",
       "</table>\n",
       "</div>"
      ],
      "text/plain": [
       "  studentID    Age  Sex   GPA\n",
       "0    st_100  17.00    M  3.70\n",
       "1    st_101  17.00    M  3.03\n",
       "2    st_102  17.67    M  2.40\n",
       "3    st_103  17.67    F  3.03\n",
       "4    st_104  19.00  NaN  3.00"
      ]
     },
     "execution_count": 13,
     "metadata": {},
     "output_type": "execute_result"
    }
   ],
   "source": [
    "# Reordering attributes\n",
    "df_mean = df_mean[['studentID', 'Age', 'Sex', 'GPA']]\n",
    "df_mean"
   ]
  },
  {
   "cell_type": "markdown",
   "metadata": {},
   "source": [
    "### Replacing Missing Values with the Median"
   ]
  },
  {
   "cell_type": "markdown",
   "metadata": {},
   "source": [
    "Now we want to replace the missing values in the oridinal DataFrame with the median. Let's do it!"
   ]
  },
  {
   "cell_type": "code",
   "execution_count": 14,
   "metadata": {},
   "outputs": [
    {
     "data": {
      "text/html": [
       "<div>\n",
       "<style scoped>\n",
       "    .dataframe tbody tr th:only-of-type {\n",
       "        vertical-align: middle;\n",
       "    }\n",
       "\n",
       "    .dataframe tbody tr th {\n",
       "        vertical-align: top;\n",
       "    }\n",
       "\n",
       "    .dataframe thead th {\n",
       "        text-align: right;\n",
       "    }\n",
       "</style>\n",
       "<table border=\"1\" class=\"dataframe\">\n",
       "  <thead>\n",
       "    <tr style=\"text-align: right;\">\n",
       "      <th></th>\n",
       "      <th>studentID</th>\n",
       "      <th>Age</th>\n",
       "      <th>Sex</th>\n",
       "      <th>GPA</th>\n",
       "    </tr>\n",
       "  </thead>\n",
       "  <tbody>\n",
       "    <tr>\n",
       "      <th>0</th>\n",
       "      <td>st_100</td>\n",
       "      <td>17.00</td>\n",
       "      <td>M</td>\n",
       "      <td>3.70</td>\n",
       "    </tr>\n",
       "    <tr>\n",
       "      <th>1</th>\n",
       "      <td>st_101</td>\n",
       "      <td>17.00</td>\n",
       "      <td>M</td>\n",
       "      <td>NaN</td>\n",
       "    </tr>\n",
       "    <tr>\n",
       "      <th>2</th>\n",
       "      <td>st_102</td>\n",
       "      <td>NaN</td>\n",
       "      <td>M</td>\n",
       "      <td>2.40</td>\n",
       "    </tr>\n",
       "    <tr>\n",
       "      <th>3</th>\n",
       "      <td>st_103</td>\n",
       "      <td>NaN</td>\n",
       "      <td>F</td>\n",
       "      <td>NaN</td>\n",
       "    </tr>\n",
       "    <tr>\n",
       "      <th>4</th>\n",
       "      <td>st_104</td>\n",
       "      <td>19.00</td>\n",
       "      <td>NaN</td>\n",
       "      <td>3.00</td>\n",
       "    </tr>\n",
       "  </tbody>\n",
       "</table>\n",
       "</div>"
      ],
      "text/plain": [
       "  studentID    Age  Sex   GPA\n",
       "0    st_100  17.00    M  3.70\n",
       "1    st_101  17.00    M   NaN\n",
       "2    st_102    NaN    M  2.40\n",
       "3    st_103    NaN    F   NaN\n",
       "4    st_104  19.00  NaN  3.00"
      ]
     },
     "execution_count": 14,
     "metadata": {},
     "output_type": "execute_result"
    }
   ],
   "source": [
    "# Original DataFrame\n",
    "df"
   ]
  },
  {
   "cell_type": "code",
   "execution_count": 15,
   "metadata": {},
   "outputs": [
    {
     "data": {
      "text/plain": [
       "Age    17.00\n",
       "GPA     3.00\n",
       "dtype: float64"
      ]
     },
     "execution_count": 15,
     "metadata": {},
     "output_type": "execute_result"
    }
   ],
   "source": [
    "# Calculating the median\n",
    "df[['Age','GPA']].median()"
   ]
  },
  {
   "cell_type": "code",
   "execution_count": 16,
   "metadata": {},
   "outputs": [
    {
     "data": {
      "text/html": [
       "<div>\n",
       "<style scoped>\n",
       "    .dataframe tbody tr th:only-of-type {\n",
       "        vertical-align: middle;\n",
       "    }\n",
       "\n",
       "    .dataframe tbody tr th {\n",
       "        vertical-align: top;\n",
       "    }\n",
       "\n",
       "    .dataframe thead th {\n",
       "        text-align: right;\n",
       "    }\n",
       "</style>\n",
       "<table border=\"1\" class=\"dataframe\">\n",
       "  <thead>\n",
       "    <tr style=\"text-align: right;\">\n",
       "      <th></th>\n",
       "      <th>Age</th>\n",
       "      <th>GPA</th>\n",
       "    </tr>\n",
       "  </thead>\n",
       "  <tbody>\n",
       "    <tr>\n",
       "      <th>0</th>\n",
       "      <td>17.00</td>\n",
       "      <td>3.70</td>\n",
       "    </tr>\n",
       "    <tr>\n",
       "      <th>1</th>\n",
       "      <td>17.00</td>\n",
       "      <td>3.00</td>\n",
       "    </tr>\n",
       "    <tr>\n",
       "      <th>2</th>\n",
       "      <td>17.00</td>\n",
       "      <td>2.40</td>\n",
       "    </tr>\n",
       "    <tr>\n",
       "      <th>3</th>\n",
       "      <td>17.00</td>\n",
       "      <td>3.00</td>\n",
       "    </tr>\n",
       "    <tr>\n",
       "      <th>4</th>\n",
       "      <td>19.00</td>\n",
       "      <td>3.00</td>\n",
       "    </tr>\n",
       "  </tbody>\n",
       "</table>\n",
       "</div>"
      ],
      "text/plain": [
       "     Age   GPA\n",
       "0  17.00  3.70\n",
       "1  17.00  3.00\n",
       "2  17.00  2.40\n",
       "3  17.00  3.00\n",
       "4  19.00  3.00"
      ]
     },
     "execution_count": 16,
     "metadata": {},
     "output_type": "execute_result"
    }
   ],
   "source": [
    "# filling missing values with the median by column\n",
    "df_median = df[['Age','GPA']].fillna(df[['Age','GPA']].median())\n",
    "df_median"
   ]
  },
  {
   "cell_type": "code",
   "execution_count": 17,
   "metadata": {},
   "outputs": [
    {
     "data": {
      "text/html": [
       "<div>\n",
       "<style scoped>\n",
       "    .dataframe tbody tr th:only-of-type {\n",
       "        vertical-align: middle;\n",
       "    }\n",
       "\n",
       "    .dataframe tbody tr th {\n",
       "        vertical-align: top;\n",
       "    }\n",
       "\n",
       "    .dataframe thead th {\n",
       "        text-align: right;\n",
       "    }\n",
       "</style>\n",
       "<table border=\"1\" class=\"dataframe\">\n",
       "  <thead>\n",
       "    <tr style=\"text-align: right;\">\n",
       "      <th></th>\n",
       "      <th>Age</th>\n",
       "      <th>GPA</th>\n",
       "      <th>studentID</th>\n",
       "      <th>Sex</th>\n",
       "    </tr>\n",
       "  </thead>\n",
       "  <tbody>\n",
       "    <tr>\n",
       "      <th>0</th>\n",
       "      <td>17.00</td>\n",
       "      <td>3.70</td>\n",
       "      <td>st_100</td>\n",
       "      <td>M</td>\n",
       "    </tr>\n",
       "    <tr>\n",
       "      <th>1</th>\n",
       "      <td>17.00</td>\n",
       "      <td>3.00</td>\n",
       "      <td>st_101</td>\n",
       "      <td>M</td>\n",
       "    </tr>\n",
       "    <tr>\n",
       "      <th>2</th>\n",
       "      <td>17.00</td>\n",
       "      <td>2.40</td>\n",
       "      <td>st_102</td>\n",
       "      <td>M</td>\n",
       "    </tr>\n",
       "    <tr>\n",
       "      <th>3</th>\n",
       "      <td>17.00</td>\n",
       "      <td>3.00</td>\n",
       "      <td>st_103</td>\n",
       "      <td>F</td>\n",
       "    </tr>\n",
       "    <tr>\n",
       "      <th>4</th>\n",
       "      <td>19.00</td>\n",
       "      <td>3.00</td>\n",
       "      <td>st_104</td>\n",
       "      <td>NaN</td>\n",
       "    </tr>\n",
       "  </tbody>\n",
       "</table>\n",
       "</div>"
      ],
      "text/plain": [
       "     Age   GPA studentID  Sex\n",
       "0  17.00  3.70    st_100    M\n",
       "1  17.00  3.00    st_101    M\n",
       "2  17.00  2.40    st_102    M\n",
       "3  17.00  3.00    st_103    F\n",
       "4  19.00  3.00    st_104  NaN"
      ]
     },
     "execution_count": 17,
     "metadata": {},
     "output_type": "execute_result"
    }
   ],
   "source": [
    "# Completing with the other columns\n",
    "df_median['studentID'] = df.studentID\n",
    "df_median['Sex'] = df.Sex\n",
    "df_median"
   ]
  },
  {
   "cell_type": "code",
   "execution_count": 18,
   "metadata": {},
   "outputs": [
    {
     "data": {
      "text/html": [
       "<div>\n",
       "<style scoped>\n",
       "    .dataframe tbody tr th:only-of-type {\n",
       "        vertical-align: middle;\n",
       "    }\n",
       "\n",
       "    .dataframe tbody tr th {\n",
       "        vertical-align: top;\n",
       "    }\n",
       "\n",
       "    .dataframe thead th {\n",
       "        text-align: right;\n",
       "    }\n",
       "</style>\n",
       "<table border=\"1\" class=\"dataframe\">\n",
       "  <thead>\n",
       "    <tr style=\"text-align: right;\">\n",
       "      <th></th>\n",
       "      <th>studentID</th>\n",
       "      <th>Age</th>\n",
       "      <th>Sex</th>\n",
       "      <th>GPA</th>\n",
       "    </tr>\n",
       "  </thead>\n",
       "  <tbody>\n",
       "    <tr>\n",
       "      <th>0</th>\n",
       "      <td>st_100</td>\n",
       "      <td>17.00</td>\n",
       "      <td>M</td>\n",
       "      <td>3.70</td>\n",
       "    </tr>\n",
       "    <tr>\n",
       "      <th>1</th>\n",
       "      <td>st_101</td>\n",
       "      <td>17.00</td>\n",
       "      <td>M</td>\n",
       "      <td>3.00</td>\n",
       "    </tr>\n",
       "    <tr>\n",
       "      <th>2</th>\n",
       "      <td>st_102</td>\n",
       "      <td>17.00</td>\n",
       "      <td>M</td>\n",
       "      <td>2.40</td>\n",
       "    </tr>\n",
       "    <tr>\n",
       "      <th>3</th>\n",
       "      <td>st_103</td>\n",
       "      <td>17.00</td>\n",
       "      <td>F</td>\n",
       "      <td>3.00</td>\n",
       "    </tr>\n",
       "    <tr>\n",
       "      <th>4</th>\n",
       "      <td>st_104</td>\n",
       "      <td>19.00</td>\n",
       "      <td>NaN</td>\n",
       "      <td>3.00</td>\n",
       "    </tr>\n",
       "  </tbody>\n",
       "</table>\n",
       "</div>"
      ],
      "text/plain": [
       "  studentID    Age  Sex   GPA\n",
       "0    st_100  17.00    M  3.70\n",
       "1    st_101  17.00    M  3.00\n",
       "2    st_102  17.00    M  2.40\n",
       "3    st_103  17.00    F  3.00\n",
       "4    st_104  19.00  NaN  3.00"
      ]
     },
     "execution_count": 18,
     "metadata": {},
     "output_type": "execute_result"
    }
   ],
   "source": [
    "# Reordering attributes\n",
    "df_median = df_median[['studentID', 'Age', 'Sex', 'GPA']]\n",
    "df_median"
   ]
  },
  {
   "cell_type": "markdown",
   "metadata": {},
   "source": [
    "### Replacing Missing Values with the Mode"
   ]
  },
  {
   "cell_type": "markdown",
   "metadata": {},
   "source": [
    "We want to replace the missing values of `Sex` with the mode, `M` in this case.\n",
    "This example is for academic purposes only. If you have a missing `Sex` value, you should find the original data. "
   ]
  },
  {
   "cell_type": "code",
   "execution_count": 19,
   "metadata": {},
   "outputs": [
    {
     "data": {
      "text/plain": [
       "Sex\n",
       "M    3\n",
       "F    1\n",
       "Name: count, dtype: int64"
      ]
     },
     "execution_count": 19,
     "metadata": {},
     "output_type": "execute_result"
    }
   ],
   "source": [
    "df.Sex.value_counts()"
   ]
  },
  {
   "cell_type": "code",
   "execution_count": 20,
   "metadata": {},
   "outputs": [
    {
     "data": {
      "text/plain": [
       "0    M\n",
       "1    M\n",
       "2    M\n",
       "3    F\n",
       "4    M\n",
       "Name: Sex, dtype: object"
      ]
     },
     "execution_count": 20,
     "metadata": {},
     "output_type": "execute_result"
    }
   ],
   "source": [
    "df.Sex.fillna('M')"
   ]
  },
  {
   "cell_type": "markdown",
   "metadata": {},
   "source": [
    "## Replacing Missing Values with other value"
   ]
  },
  {
   "cell_type": "markdown",
   "metadata": {},
   "source": [
    "Suppose you want to replace missing values of `GPA`, for instance, with a certain value you must calculate. Let us start by creating a lambda function."
   ]
  },
  {
   "cell_type": "code",
   "execution_count": 21,
   "metadata": {},
   "outputs": [],
   "source": [
    "# It computes the mean of the extreme values: (min + max)/2\n",
    "mean_ext = lambda l: (pd.Series(l).min() + pd.Series(l).max()) / 2"
   ]
  },
  {
   "cell_type": "code",
   "execution_count": 22,
   "metadata": {},
   "outputs": [
    {
     "data": {
      "text/plain": [
       "3.05"
      ]
     },
     "execution_count": 22,
     "metadata": {},
     "output_type": "execute_result"
    }
   ],
   "source": [
    "# Calculating the mean of extreme values for df.GPA\n",
    "mean_ext(df.GPA)"
   ]
  },
  {
   "cell_type": "code",
   "execution_count": 23,
   "metadata": {},
   "outputs": [
    {
     "name": "stdout",
     "output_type": "stream",
     "text": [
      "Original GPA column\n",
      " 0    3.70\n",
      "1     NaN\n",
      "2    2.40\n",
      "3     NaN\n",
      "4    3.00\n",
      "Name: GPA, dtype: float64\n"
     ]
    },
    {
     "data": {
      "text/plain": [
       "0    3.70\n",
       "1    3.05\n",
       "2    2.40\n",
       "3    3.05\n",
       "4    3.00\n",
       "Name: GPA, dtype: float64"
      ]
     },
     "execution_count": 23,
     "metadata": {},
     "output_type": "execute_result"
    }
   ],
   "source": [
    "# replacing NaN values in df.GPA\n",
    "print('Original GPA column\\n', df.GPA)\n",
    "df.GPA.fillna(mean_ext(df.GPA))"
   ]
  },
  {
   "cell_type": "code",
   "execution_count": 24,
   "metadata": {},
   "outputs": [
    {
     "name": "stdout",
     "output_type": "stream",
     "text": [
      "Original GPA column\n",
      " 0    3.70\n",
      "1     NaN\n",
      "2    2.40\n",
      "3     NaN\n",
      "4    3.00\n",
      "Name: GPA, dtype: float64\n"
     ]
    },
    {
     "data": {
      "text/plain": [
       "0    3.70\n",
       "1    3.05\n",
       "2    2.40\n",
       "3    3.05\n",
       "4    3.00\n",
       "Name: GPA, dtype: float64"
      ]
     },
     "execution_count": 24,
     "metadata": {},
     "output_type": "execute_result"
    }
   ],
   "source": [
    "# Using replace function\n",
    "print('Original GPA column\\n', df.GPA)\n",
    "df.GPA.replace(np.nan, mean_ext(df.GPA))"
   ]
  },
  {
   "cell_type": "markdown",
   "metadata": {},
   "source": [
    "### Using interpolation for replacing Missing Values"
   ]
  },
  {
   "cell_type": "markdown",
   "metadata": {},
   "source": [
    "Filling missing data is an active research area. There are other techniques for filling missing values like interpolation. This method is very useful in time series data."
   ]
  },
  {
   "cell_type": "code",
   "execution_count": 25,
   "metadata": {},
   "outputs": [
    {
     "data": {
      "text/html": [
       "<div>\n",
       "<style scoped>\n",
       "    .dataframe tbody tr th:only-of-type {\n",
       "        vertical-align: middle;\n",
       "    }\n",
       "\n",
       "    .dataframe tbody tr th {\n",
       "        vertical-align: top;\n",
       "    }\n",
       "\n",
       "    .dataframe thead th {\n",
       "        text-align: right;\n",
       "    }\n",
       "</style>\n",
       "<table border=\"1\" class=\"dataframe\">\n",
       "  <thead>\n",
       "    <tr style=\"text-align: right;\">\n",
       "      <th></th>\n",
       "      <th>Date</th>\n",
       "      <th>ProdA</th>\n",
       "      <th>ProdB</th>\n",
       "    </tr>\n",
       "  </thead>\n",
       "  <tbody>\n",
       "    <tr>\n",
       "      <th>0</th>\n",
       "      <td>2022-05-05</td>\n",
       "      <td>16.00</td>\n",
       "      <td>36.00</td>\n",
       "    </tr>\n",
       "    <tr>\n",
       "      <th>1</th>\n",
       "      <td>2022-05-06</td>\n",
       "      <td>21.00</td>\n",
       "      <td>38.00</td>\n",
       "    </tr>\n",
       "    <tr>\n",
       "      <th>2</th>\n",
       "      <td>2022-05-07</td>\n",
       "      <td>NaN</td>\n",
       "      <td>NaN</td>\n",
       "    </tr>\n",
       "    <tr>\n",
       "      <th>3</th>\n",
       "      <td>2022-05-08</td>\n",
       "      <td>21.00</td>\n",
       "      <td>42.00</td>\n",
       "    </tr>\n",
       "    <tr>\n",
       "      <th>4</th>\n",
       "      <td>2022-05-09</td>\n",
       "      <td>12.00</td>\n",
       "      <td>NaN</td>\n",
       "    </tr>\n",
       "    <tr>\n",
       "      <th>5</th>\n",
       "      <td>2022-05-10</td>\n",
       "      <td>NaN</td>\n",
       "      <td>60.00</td>\n",
       "    </tr>\n",
       "    <tr>\n",
       "      <th>6</th>\n",
       "      <td>2022-05-11</td>\n",
       "      <td>12.00</td>\n",
       "      <td>47.00</td>\n",
       "    </tr>\n",
       "    <tr>\n",
       "      <th>7</th>\n",
       "      <td>2022-05-12</td>\n",
       "      <td>20.00</td>\n",
       "      <td>67.00</td>\n",
       "    </tr>\n",
       "    <tr>\n",
       "      <th>8</th>\n",
       "      <td>2022-05-13</td>\n",
       "      <td>NaN</td>\n",
       "      <td>73.00</td>\n",
       "    </tr>\n",
       "    <tr>\n",
       "      <th>9</th>\n",
       "      <td>2022-05-14</td>\n",
       "      <td>30.00</td>\n",
       "      <td>55.00</td>\n",
       "    </tr>\n",
       "  </tbody>\n",
       "</table>\n",
       "</div>"
      ],
      "text/plain": [
       "        Date  ProdA  ProdB\n",
       "0 2022-05-05  16.00  36.00\n",
       "1 2022-05-06  21.00  38.00\n",
       "2 2022-05-07    NaN    NaN\n",
       "3 2022-05-08  21.00  42.00\n",
       "4 2022-05-09  12.00    NaN\n",
       "5 2022-05-10    NaN  60.00\n",
       "6 2022-05-11  12.00  47.00\n",
       "7 2022-05-12  20.00  67.00\n",
       "8 2022-05-13    NaN  73.00\n",
       "9 2022-05-14  30.00  55.00"
      ]
     },
     "execution_count": 25,
     "metadata": {},
     "output_type": "execute_result"
    }
   ],
   "source": [
    "# Creating a sample DataFrame\n",
    "dates = pd.date_range(start=\"2022-05-05\", periods=10).to_pydatetime().tolist()\n",
    "prodA = [16, 21, np.nan, 21, 12, np.nan, 12, 20, np.nan, 30]\n",
    "prodB = [36, 38, np.nan, 42, np.nan, 60, 47, 67, 73, 55]\n",
    "dfd = pd.DataFrame({'Date': dates, 'ProdA': prodA, 'ProdB': prodB})\n",
    "dfd"
   ]
  },
  {
   "cell_type": "code",
   "execution_count": 26,
   "metadata": {},
   "outputs": [
    {
     "data": {
      "text/plain": [
       "Date     0\n",
       "ProdA    3\n",
       "ProdB    2\n",
       "dtype: int64"
      ]
     },
     "execution_count": 26,
     "metadata": {},
     "output_type": "execute_result"
    }
   ],
   "source": [
    "# Counting the number of NaN values\n",
    "dfd.isnull().sum()"
   ]
  },
  {
   "cell_type": "code",
   "execution_count": 27,
   "metadata": {},
   "outputs": [
    {
     "name": "stdout",
     "output_type": "stream",
     "text": [
      "Original data\n",
      " 0    16.00\n",
      "1    21.00\n",
      "2      NaN\n",
      "3    21.00\n",
      "4    12.00\n",
      "5      NaN\n",
      "6    12.00\n",
      "7    20.00\n",
      "8      NaN\n",
      "9    30.00\n",
      "Name: ProdA, dtype: float64\n"
     ]
    },
    {
     "data": {
      "text/plain": [
       "0    16.00\n",
       "1    21.00\n",
       "2    21.00\n",
       "3    21.00\n",
       "4    12.00\n",
       "5    12.00\n",
       "6    12.00\n",
       "7    20.00\n",
       "8    25.00\n",
       "9    30.00\n",
       "Name: ProdA, dtype: float64"
      ]
     },
     "execution_count": 27,
     "metadata": {},
     "output_type": "execute_result"
    }
   ],
   "source": [
    "# Using interpolate method to fill the missing values\n",
    "print('Original data\\n', dfd.ProdA)\n",
    "dfd.ProdA.interpolate()"
   ]
  },
  {
   "cell_type": "markdown",
   "metadata": {},
   "source": [
    "The `interpolate()` method replaces the `NaN` values based on a interpolating technique. Defaulf: `method='linear'`\n",
    "\n",
    "Notice `ProdA` at index 2 has `NaN` initially and 21 after the interpolation. Notice that 21 is the average of values at indexes 1 and 3."
   ]
  },
  {
   "cell_type": "code",
   "execution_count": 28,
   "metadata": {},
   "outputs": [
    {
     "name": "stdout",
     "output_type": "stream",
     "text": [
      "Original data\n",
      " 0    16.00\n",
      "1    21.00\n",
      "2      NaN\n",
      "3    21.00\n",
      "4    12.00\n",
      "5      NaN\n",
      "6    12.00\n",
      "7    20.00\n",
      "8      NaN\n",
      "9    30.00\n",
      "Name: ProdA, dtype: float64\n"
     ]
    },
    {
     "data": {
      "text/plain": [
       "0    16.00\n",
       "1    21.00\n",
       "2    21.00\n",
       "3    21.00\n",
       "4    12.00\n",
       "5    12.00\n",
       "6    12.00\n",
       "7    20.00\n",
       "8    25.00\n",
       "9    30.00\n",
       "Name: ProdA, dtype: float64"
      ]
     },
     "execution_count": 28,
     "metadata": {},
     "output_type": "execute_result"
    }
   ],
   "source": [
    "# Using interpolate linear method to fill the missing values\n",
    "print('Original data\\n', dfd.ProdA)\n",
    "dfd.ProdA.interpolate(method='linear')"
   ]
  },
  {
   "cell_type": "markdown",
   "metadata": {},
   "source": [
    "When we have data from a time series, we have the data sorted by date and we can successfully use the interpolation method.\n",
    "\n",
    "Note that if we order the data differently (which we cannot do with time series data), the result of applying the interpolation method will be different."
   ]
  },
  {
   "cell_type": "code",
   "execution_count": 29,
   "metadata": {},
   "outputs": [
    {
     "name": "stdout",
     "output_type": "stream",
     "text": [
      "Original data\n",
      " 0    16.00\n",
      "1    21.00\n",
      "2      NaN\n",
      "3    21.00\n",
      "4    12.00\n",
      "5      NaN\n",
      "6    12.00\n",
      "7    20.00\n",
      "8      NaN\n",
      "9    30.00\n",
      "Name: ProdA, dtype: float64\n"
     ]
    },
    {
     "data": {
      "text/plain": [
       "0    16.00\n",
       "1    21.00\n",
       "2    23.67\n",
       "3    21.00\n",
       "4    12.00\n",
       "5     8.66\n",
       "6    12.00\n",
       "7    20.00\n",
       "8    26.35\n",
       "9    30.00\n",
       "Name: ProdA, dtype: float64"
      ]
     },
     "execution_count": 29,
     "metadata": {},
     "output_type": "execute_result"
    }
   ],
   "source": [
    "# Using interpolate quadratic method to fill the missing values\n",
    "print('Original data\\n', dfd.ProdA)\n",
    "dfd.ProdA.interpolate(method='polynomial', order=2)"
   ]
  },
  {
   "cell_type": "markdown",
   "metadata": {},
   "source": [
    "The interpolate method is different  in this example. Notice the value at index 2 is now `23.67`."
   ]
  },
  {
   "cell_type": "markdown",
   "metadata": {},
   "source": [
    "### Imputing with k Nearest Neighbors"
   ]
  },
  {
   "cell_type": "markdown",
   "metadata": {},
   "source": [
    "The sklearn library provides a function `KNNImputer()` to replace missing values. This allows us to specify the value to replace the missing values with the mean value from nearest neighbors (`n_neighbors`) of the data point."
   ]
  },
  {
   "cell_type": "code",
   "execution_count": 30,
   "metadata": {},
   "outputs": [],
   "source": [
    "from sklearn.impute import KNNImputer"
   ]
  },
  {
   "cell_type": "code",
   "execution_count": 31,
   "metadata": {},
   "outputs": [
    {
     "data": {
      "text/html": [
       "<div>\n",
       "<style scoped>\n",
       "    .dataframe tbody tr th:only-of-type {\n",
       "        vertical-align: middle;\n",
       "    }\n",
       "\n",
       "    .dataframe tbody tr th {\n",
       "        vertical-align: top;\n",
       "    }\n",
       "\n",
       "    .dataframe thead th {\n",
       "        text-align: right;\n",
       "    }\n",
       "</style>\n",
       "<table border=\"1\" class=\"dataframe\">\n",
       "  <thead>\n",
       "    <tr style=\"text-align: right;\">\n",
       "      <th></th>\n",
       "      <th>Date</th>\n",
       "      <th>ProdA</th>\n",
       "      <th>ProdB</th>\n",
       "    </tr>\n",
       "  </thead>\n",
       "  <tbody>\n",
       "    <tr>\n",
       "      <th>0</th>\n",
       "      <td>2022-05-05</td>\n",
       "      <td>16.00</td>\n",
       "      <td>36.00</td>\n",
       "    </tr>\n",
       "    <tr>\n",
       "      <th>1</th>\n",
       "      <td>2022-05-06</td>\n",
       "      <td>21.00</td>\n",
       "      <td>38.00</td>\n",
       "    </tr>\n",
       "    <tr>\n",
       "      <th>2</th>\n",
       "      <td>2022-05-07</td>\n",
       "      <td>NaN</td>\n",
       "      <td>NaN</td>\n",
       "    </tr>\n",
       "    <tr>\n",
       "      <th>3</th>\n",
       "      <td>2022-05-08</td>\n",
       "      <td>21.00</td>\n",
       "      <td>42.00</td>\n",
       "    </tr>\n",
       "    <tr>\n",
       "      <th>4</th>\n",
       "      <td>2022-05-09</td>\n",
       "      <td>12.00</td>\n",
       "      <td>NaN</td>\n",
       "    </tr>\n",
       "    <tr>\n",
       "      <th>5</th>\n",
       "      <td>2022-05-10</td>\n",
       "      <td>NaN</td>\n",
       "      <td>60.00</td>\n",
       "    </tr>\n",
       "    <tr>\n",
       "      <th>6</th>\n",
       "      <td>2022-05-11</td>\n",
       "      <td>12.00</td>\n",
       "      <td>47.00</td>\n",
       "    </tr>\n",
       "    <tr>\n",
       "      <th>7</th>\n",
       "      <td>2022-05-12</td>\n",
       "      <td>20.00</td>\n",
       "      <td>67.00</td>\n",
       "    </tr>\n",
       "    <tr>\n",
       "      <th>8</th>\n",
       "      <td>2022-05-13</td>\n",
       "      <td>NaN</td>\n",
       "      <td>73.00</td>\n",
       "    </tr>\n",
       "    <tr>\n",
       "      <th>9</th>\n",
       "      <td>2022-05-14</td>\n",
       "      <td>30.00</td>\n",
       "      <td>55.00</td>\n",
       "    </tr>\n",
       "  </tbody>\n",
       "</table>\n",
       "</div>"
      ],
      "text/plain": [
       "        Date  ProdA  ProdB\n",
       "0 2022-05-05  16.00  36.00\n",
       "1 2022-05-06  21.00  38.00\n",
       "2 2022-05-07    NaN    NaN\n",
       "3 2022-05-08  21.00  42.00\n",
       "4 2022-05-09  12.00    NaN\n",
       "5 2022-05-10    NaN  60.00\n",
       "6 2022-05-11  12.00  47.00\n",
       "7 2022-05-12  20.00  67.00\n",
       "8 2022-05-13    NaN  73.00\n",
       "9 2022-05-14  30.00  55.00"
      ]
     },
     "execution_count": 31,
     "metadata": {},
     "output_type": "execute_result"
    }
   ],
   "source": [
    "dfd"
   ]
  },
  {
   "cell_type": "markdown",
   "metadata": {},
   "source": [
    "Let us work only with the columns with `NaN` values: `ProdA` and `ProdB`."
   ]
  },
  {
   "cell_type": "code",
   "execution_count": 32,
   "metadata": {},
   "outputs": [
    {
     "data": {
      "text/html": [
       "<div>\n",
       "<style scoped>\n",
       "    .dataframe tbody tr th:only-of-type {\n",
       "        vertical-align: middle;\n",
       "    }\n",
       "\n",
       "    .dataframe tbody tr th {\n",
       "        vertical-align: top;\n",
       "    }\n",
       "\n",
       "    .dataframe thead th {\n",
       "        text-align: right;\n",
       "    }\n",
       "</style>\n",
       "<table border=\"1\" class=\"dataframe\">\n",
       "  <thead>\n",
       "    <tr style=\"text-align: right;\">\n",
       "      <th></th>\n",
       "      <th>ProdA</th>\n",
       "      <th>ProdB</th>\n",
       "      <th>ProdA_1</th>\n",
       "      <th>ProdB_1</th>\n",
       "    </tr>\n",
       "  </thead>\n",
       "  <tbody>\n",
       "    <tr>\n",
       "      <th>0</th>\n",
       "      <td>16.00</td>\n",
       "      <td>36.00</td>\n",
       "      <td>16.00</td>\n",
       "      <td>36.00</td>\n",
       "    </tr>\n",
       "    <tr>\n",
       "      <th>1</th>\n",
       "      <td>21.00</td>\n",
       "      <td>38.00</td>\n",
       "      <td>21.00</td>\n",
       "      <td>38.00</td>\n",
       "    </tr>\n",
       "    <tr>\n",
       "      <th>2</th>\n",
       "      <td>NaN</td>\n",
       "      <td>NaN</td>\n",
       "      <td>18.86</td>\n",
       "      <td>52.25</td>\n",
       "    </tr>\n",
       "    <tr>\n",
       "      <th>3</th>\n",
       "      <td>21.00</td>\n",
       "      <td>42.00</td>\n",
       "      <td>21.00</td>\n",
       "      <td>42.00</td>\n",
       "    </tr>\n",
       "    <tr>\n",
       "      <th>4</th>\n",
       "      <td>12.00</td>\n",
       "      <td>NaN</td>\n",
       "      <td>12.00</td>\n",
       "      <td>47.00</td>\n",
       "    </tr>\n",
       "    <tr>\n",
       "      <th>5</th>\n",
       "      <td>NaN</td>\n",
       "      <td>60.00</td>\n",
       "      <td>30.00</td>\n",
       "      <td>60.00</td>\n",
       "    </tr>\n",
       "    <tr>\n",
       "      <th>6</th>\n",
       "      <td>12.00</td>\n",
       "      <td>47.00</td>\n",
       "      <td>12.00</td>\n",
       "      <td>47.00</td>\n",
       "    </tr>\n",
       "    <tr>\n",
       "      <th>7</th>\n",
       "      <td>20.00</td>\n",
       "      <td>67.00</td>\n",
       "      <td>20.00</td>\n",
       "      <td>67.00</td>\n",
       "    </tr>\n",
       "    <tr>\n",
       "      <th>8</th>\n",
       "      <td>NaN</td>\n",
       "      <td>73.00</td>\n",
       "      <td>20.00</td>\n",
       "      <td>73.00</td>\n",
       "    </tr>\n",
       "    <tr>\n",
       "      <th>9</th>\n",
       "      <td>30.00</td>\n",
       "      <td>55.00</td>\n",
       "      <td>30.00</td>\n",
       "      <td>55.00</td>\n",
       "    </tr>\n",
       "  </tbody>\n",
       "</table>\n",
       "</div>"
      ],
      "text/plain": [
       "   ProdA  ProdB  ProdA_1  ProdB_1\n",
       "0  16.00  36.00    16.00    36.00\n",
       "1  21.00  38.00    21.00    38.00\n",
       "2    NaN    NaN    18.86    52.25\n",
       "3  21.00  42.00    21.00    42.00\n",
       "4  12.00    NaN    12.00    47.00\n",
       "5    NaN  60.00    30.00    60.00\n",
       "6  12.00  47.00    12.00    47.00\n",
       "7  20.00  67.00    20.00    67.00\n",
       "8    NaN  73.00    20.00    73.00\n",
       "9  30.00  55.00    30.00    55.00"
      ]
     },
     "execution_count": 32,
     "metadata": {},
     "output_type": "execute_result"
    }
   ],
   "source": [
    "# Using n_neighbors=1\n",
    "imputer = KNNImputer(n_neighbors=1)\n",
    "impute_data = imputer.fit_transform(dfd[['ProdA','ProdB']])\n",
    "dfd['ProdA_1'] = impute_data[:,0]\n",
    "dfd['ProdB_1'] = impute_data[:,1]\n",
    "dfd[['ProdA','ProdB','ProdA_1','ProdB_1']]"
   ]
  },
  {
   "cell_type": "markdown",
   "metadata": {},
   "source": [
    "- index 4 has `ProdA` : `12.00` and `ProdB` : `NaN` To impute the missing value, the algorithm finds the nearest value to `12.00` (`n_neighbors=1`). The closest value is `12.00` at index 6. There, `ProdB` is `47.00`, therefore the estimate value at index 4 for `ProdB` is `47.00` \n",
    "\n",
    "- index 5 has `ProdA` : `NaN` and `ProdB` : `60.00` To impute the missing value, the algorithm finds the nearest value to `60.00` (`n_neighbors=1`). The closest value is `55.00` at index 9. There, `ProdA` is `30.00`, therefore the estimate value at index 5 for `ProdA` is `30.00`\n",
    "\n",
    "- index 2 has two `NaN` values. It is an extreme case. The estimations here are the average by column of all valid values."
   ]
  },
  {
   "cell_type": "code",
   "execution_count": 33,
   "metadata": {},
   "outputs": [
    {
     "data": {
      "text/html": [
       "<div>\n",
       "<style scoped>\n",
       "    .dataframe tbody tr th:only-of-type {\n",
       "        vertical-align: middle;\n",
       "    }\n",
       "\n",
       "    .dataframe tbody tr th {\n",
       "        vertical-align: top;\n",
       "    }\n",
       "\n",
       "    .dataframe thead th {\n",
       "        text-align: right;\n",
       "    }\n",
       "</style>\n",
       "<table border=\"1\" class=\"dataframe\">\n",
       "  <thead>\n",
       "    <tr style=\"text-align: right;\">\n",
       "      <th></th>\n",
       "      <th>ProdA</th>\n",
       "      <th>ProdB</th>\n",
       "      <th>ProdA_1</th>\n",
       "      <th>ProdB_1</th>\n",
       "      <th>ProdA_2</th>\n",
       "      <th>ProdB_2</th>\n",
       "    </tr>\n",
       "  </thead>\n",
       "  <tbody>\n",
       "    <tr>\n",
       "      <th>0</th>\n",
       "      <td>16.00</td>\n",
       "      <td>36.00</td>\n",
       "      <td>16.00</td>\n",
       "      <td>36.00</td>\n",
       "      <td>16.00</td>\n",
       "      <td>36.00</td>\n",
       "    </tr>\n",
       "    <tr>\n",
       "      <th>1</th>\n",
       "      <td>21.00</td>\n",
       "      <td>38.00</td>\n",
       "      <td>21.00</td>\n",
       "      <td>38.00</td>\n",
       "      <td>21.00</td>\n",
       "      <td>38.00</td>\n",
       "    </tr>\n",
       "    <tr>\n",
       "      <th>2</th>\n",
       "      <td>NaN</td>\n",
       "      <td>NaN</td>\n",
       "      <td>18.86</td>\n",
       "      <td>52.25</td>\n",
       "      <td>18.86</td>\n",
       "      <td>52.25</td>\n",
       "    </tr>\n",
       "    <tr>\n",
       "      <th>3</th>\n",
       "      <td>21.00</td>\n",
       "      <td>42.00</td>\n",
       "      <td>21.00</td>\n",
       "      <td>42.00</td>\n",
       "      <td>21.00</td>\n",
       "      <td>42.00</td>\n",
       "    </tr>\n",
       "    <tr>\n",
       "      <th>4</th>\n",
       "      <td>12.00</td>\n",
       "      <td>NaN</td>\n",
       "      <td>12.00</td>\n",
       "      <td>47.00</td>\n",
       "      <td>12.00</td>\n",
       "      <td>41.50</td>\n",
       "    </tr>\n",
       "    <tr>\n",
       "      <th>5</th>\n",
       "      <td>NaN</td>\n",
       "      <td>60.00</td>\n",
       "      <td>30.00</td>\n",
       "      <td>60.00</td>\n",
       "      <td>25.00</td>\n",
       "      <td>60.00</td>\n",
       "    </tr>\n",
       "    <tr>\n",
       "      <th>6</th>\n",
       "      <td>12.00</td>\n",
       "      <td>47.00</td>\n",
       "      <td>12.00</td>\n",
       "      <td>47.00</td>\n",
       "      <td>12.00</td>\n",
       "      <td>47.00</td>\n",
       "    </tr>\n",
       "    <tr>\n",
       "      <th>7</th>\n",
       "      <td>20.00</td>\n",
       "      <td>67.00</td>\n",
       "      <td>20.00</td>\n",
       "      <td>67.00</td>\n",
       "      <td>20.00</td>\n",
       "      <td>67.00</td>\n",
       "    </tr>\n",
       "    <tr>\n",
       "      <th>8</th>\n",
       "      <td>NaN</td>\n",
       "      <td>73.00</td>\n",
       "      <td>20.00</td>\n",
       "      <td>73.00</td>\n",
       "      <td>25.00</td>\n",
       "      <td>73.00</td>\n",
       "    </tr>\n",
       "    <tr>\n",
       "      <th>9</th>\n",
       "      <td>30.00</td>\n",
       "      <td>55.00</td>\n",
       "      <td>30.00</td>\n",
       "      <td>55.00</td>\n",
       "      <td>30.00</td>\n",
       "      <td>55.00</td>\n",
       "    </tr>\n",
       "  </tbody>\n",
       "</table>\n",
       "</div>"
      ],
      "text/plain": [
       "   ProdA  ProdB  ProdA_1  ProdB_1  ProdA_2  ProdB_2\n",
       "0  16.00  36.00    16.00    36.00    16.00    36.00\n",
       "1  21.00  38.00    21.00    38.00    21.00    38.00\n",
       "2    NaN    NaN    18.86    52.25    18.86    52.25\n",
       "3  21.00  42.00    21.00    42.00    21.00    42.00\n",
       "4  12.00    NaN    12.00    47.00    12.00    41.50\n",
       "5    NaN  60.00    30.00    60.00    25.00    60.00\n",
       "6  12.00  47.00    12.00    47.00    12.00    47.00\n",
       "7  20.00  67.00    20.00    67.00    20.00    67.00\n",
       "8    NaN  73.00    20.00    73.00    25.00    73.00\n",
       "9  30.00  55.00    30.00    55.00    30.00    55.00"
      ]
     },
     "execution_count": 33,
     "metadata": {},
     "output_type": "execute_result"
    }
   ],
   "source": [
    "# Using n_neighbors=2\n",
    "imputer = KNNImputer(n_neighbors=2)\n",
    "impute_data = imputer.fit_transform(dfd[['ProdA','ProdB']])\n",
    "dfd['ProdA_2'] = impute_data[:,0]\n",
    "dfd['ProdB_2'] = impute_data[:,1]\n",
    "dfd[['ProdA','ProdB','ProdA_1','ProdB_1', 'ProdA_2','ProdB_2']]"
   ]
  },
  {
   "cell_type": "markdown",
   "metadata": {},
   "source": [
    "The `n_neighbors=2`, values are different. Notice that at index 2, the estimated values are the same."
   ]
  },
  {
   "cell_type": "code",
   "execution_count": 34,
   "metadata": {},
   "outputs": [
    {
     "data": {
      "text/html": [
       "<div>\n",
       "<style scoped>\n",
       "    .dataframe tbody tr th:only-of-type {\n",
       "        vertical-align: middle;\n",
       "    }\n",
       "\n",
       "    .dataframe tbody tr th {\n",
       "        vertical-align: top;\n",
       "    }\n",
       "\n",
       "    .dataframe thead th {\n",
       "        text-align: right;\n",
       "    }\n",
       "</style>\n",
       "<table border=\"1\" class=\"dataframe\">\n",
       "  <thead>\n",
       "    <tr style=\"text-align: right;\">\n",
       "      <th></th>\n",
       "      <th>ProdA</th>\n",
       "      <th>ProdB</th>\n",
       "      <th>ProdA_1</th>\n",
       "      <th>ProdB_1</th>\n",
       "      <th>ProdA_2</th>\n",
       "      <th>ProdB_2</th>\n",
       "      <th>ProdA_3</th>\n",
       "      <th>ProdB_3</th>\n",
       "    </tr>\n",
       "  </thead>\n",
       "  <tbody>\n",
       "    <tr>\n",
       "      <th>0</th>\n",
       "      <td>16.00</td>\n",
       "      <td>36.00</td>\n",
       "      <td>16.00</td>\n",
       "      <td>36.00</td>\n",
       "      <td>16.00</td>\n",
       "      <td>36.00</td>\n",
       "      <td>16.00</td>\n",
       "      <td>36.00</td>\n",
       "    </tr>\n",
       "    <tr>\n",
       "      <th>1</th>\n",
       "      <td>21.00</td>\n",
       "      <td>38.00</td>\n",
       "      <td>21.00</td>\n",
       "      <td>38.00</td>\n",
       "      <td>21.00</td>\n",
       "      <td>38.00</td>\n",
       "      <td>21.00</td>\n",
       "      <td>38.00</td>\n",
       "    </tr>\n",
       "    <tr>\n",
       "      <th>2</th>\n",
       "      <td>NaN</td>\n",
       "      <td>NaN</td>\n",
       "      <td>18.86</td>\n",
       "      <td>52.25</td>\n",
       "      <td>18.86</td>\n",
       "      <td>52.25</td>\n",
       "      <td>18.86</td>\n",
       "      <td>52.25</td>\n",
       "    </tr>\n",
       "    <tr>\n",
       "      <th>3</th>\n",
       "      <td>21.00</td>\n",
       "      <td>42.00</td>\n",
       "      <td>21.00</td>\n",
       "      <td>42.00</td>\n",
       "      <td>21.00</td>\n",
       "      <td>42.00</td>\n",
       "      <td>21.00</td>\n",
       "      <td>42.00</td>\n",
       "    </tr>\n",
       "    <tr>\n",
       "      <th>4</th>\n",
       "      <td>12.00</td>\n",
       "      <td>NaN</td>\n",
       "      <td>12.00</td>\n",
       "      <td>47.00</td>\n",
       "      <td>12.00</td>\n",
       "      <td>41.50</td>\n",
       "      <td>12.00</td>\n",
       "      <td>50.00</td>\n",
       "    </tr>\n",
       "    <tr>\n",
       "      <th>5</th>\n",
       "      <td>NaN</td>\n",
       "      <td>60.00</td>\n",
       "      <td>30.00</td>\n",
       "      <td>60.00</td>\n",
       "      <td>25.00</td>\n",
       "      <td>60.00</td>\n",
       "      <td>20.67</td>\n",
       "      <td>60.00</td>\n",
       "    </tr>\n",
       "    <tr>\n",
       "      <th>6</th>\n",
       "      <td>12.00</td>\n",
       "      <td>47.00</td>\n",
       "      <td>12.00</td>\n",
       "      <td>47.00</td>\n",
       "      <td>12.00</td>\n",
       "      <td>47.00</td>\n",
       "      <td>12.00</td>\n",
       "      <td>47.00</td>\n",
       "    </tr>\n",
       "    <tr>\n",
       "      <th>7</th>\n",
       "      <td>20.00</td>\n",
       "      <td>67.00</td>\n",
       "      <td>20.00</td>\n",
       "      <td>67.00</td>\n",
       "      <td>20.00</td>\n",
       "      <td>67.00</td>\n",
       "      <td>20.00</td>\n",
       "      <td>67.00</td>\n",
       "    </tr>\n",
       "    <tr>\n",
       "      <th>8</th>\n",
       "      <td>NaN</td>\n",
       "      <td>73.00</td>\n",
       "      <td>20.00</td>\n",
       "      <td>73.00</td>\n",
       "      <td>25.00</td>\n",
       "      <td>73.00</td>\n",
       "      <td>20.67</td>\n",
       "      <td>73.00</td>\n",
       "    </tr>\n",
       "    <tr>\n",
       "      <th>9</th>\n",
       "      <td>30.00</td>\n",
       "      <td>55.00</td>\n",
       "      <td>30.00</td>\n",
       "      <td>55.00</td>\n",
       "      <td>30.00</td>\n",
       "      <td>55.00</td>\n",
       "      <td>30.00</td>\n",
       "      <td>55.00</td>\n",
       "    </tr>\n",
       "  </tbody>\n",
       "</table>\n",
       "</div>"
      ],
      "text/plain": [
       "   ProdA  ProdB  ProdA_1  ProdB_1  ProdA_2  ProdB_2  ProdA_3  ProdB_3\n",
       "0  16.00  36.00    16.00    36.00    16.00    36.00    16.00    36.00\n",
       "1  21.00  38.00    21.00    38.00    21.00    38.00    21.00    38.00\n",
       "2    NaN    NaN    18.86    52.25    18.86    52.25    18.86    52.25\n",
       "3  21.00  42.00    21.00    42.00    21.00    42.00    21.00    42.00\n",
       "4  12.00    NaN    12.00    47.00    12.00    41.50    12.00    50.00\n",
       "5    NaN  60.00    30.00    60.00    25.00    60.00    20.67    60.00\n",
       "6  12.00  47.00    12.00    47.00    12.00    47.00    12.00    47.00\n",
       "7  20.00  67.00    20.00    67.00    20.00    67.00    20.00    67.00\n",
       "8    NaN  73.00    20.00    73.00    25.00    73.00    20.67    73.00\n",
       "9  30.00  55.00    30.00    55.00    30.00    55.00    30.00    55.00"
      ]
     },
     "execution_count": 34,
     "metadata": {},
     "output_type": "execute_result"
    }
   ],
   "source": [
    "# Using n_neighbors=3\n",
    "imputer = KNNImputer(n_neighbors=3)\n",
    "impute_data = imputer.fit_transform(dfd[['ProdA','ProdB']])\n",
    "dfd['ProdA_3'] = impute_data[:,0]\n",
    "dfd['ProdB_3'] = impute_data[:,1]\n",
    "dfd[['ProdA','ProdB','ProdA_1','ProdB_1', 'ProdA_2','ProdB_2', 'ProdA_3','ProdB_3']]"
   ]
  },
  {
   "cell_type": "markdown",
   "metadata": {},
   "source": [
    "## Conclusions"
   ]
  },
  {
   "cell_type": "markdown",
   "metadata": {},
   "source": [
    "Key Takeaways:\n",
    "- Simple imputation techniques, like filling missing values with zeros, are quick but may not be suitable for maintaining the integrity of the data.\n",
    "- Statistical imputations (mean, median, mode) provide more realistic substitutions but can introduce bias if not aligned with the data's distribution.\n",
    "- Advanced techniques like forward and backward filling are proper for ordered data (e.g., time series) where the sequence of data points is relevant.\n",
    "- Interpolation offers a sophisticated approach to estimating missing values by considering the trend in data points, which is ideal for sequential data.\n",
    "- KNN imputation leverages the similarity between data points, providing a more informed and context-aware method for handling missing data, especially in datasets with solid patterns or relationships between variables."
   ]
  },
  {
   "cell_type": "markdown",
   "metadata": {},
   "source": [
    "## References"
   ]
  },
  {
   "cell_type": "markdown",
   "metadata": {},
   "source": [
    "- VanderPlas, J. (2017) Python Data Science Handbook: Essential Tools for Working with Data. USA: O’Reilly Media, Inc. chapter 3"
   ]
  }
 ],
 "metadata": {
  "interpreter": {
   "hash": "f6ce50080babb3e2c9dded3d344b1d82a47cf5d6f13f4c2ab5a2113adb8feaef"
  },
  "kernelspec": {
   "display_name": "Python 3.10.4 64-bit (windows store)",
   "language": "python",
   "name": "python3"
  },
  "language_info": {
   "codemirror_mode": {
    "name": "ipython",
    "version": 3
   },
   "file_extension": ".py",
   "mimetype": "text/x-python",
   "name": "python",
   "nbconvert_exporter": "python",
   "pygments_lexer": "ipython3",
   "version": "3.12.5"
  },
  "orig_nbformat": 4
 },
 "nbformat": 4,
 "nbformat_minor": 2
}
