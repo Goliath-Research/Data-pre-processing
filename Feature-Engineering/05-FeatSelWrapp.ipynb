{
 "cells": [
  {
   "cell_type": "markdown",
   "metadata": {},
   "source": [
    "# Wrapper Methods for Feature Selection"
   ]
  },
  {
   "cell_type": "markdown",
   "metadata": {},
   "source": [
    "Wrapper methods evaluate multiple models using procedures that add or remove predictors to find the optimal combination that maximizes model performance."
   ]
  },
  {
   "cell_type": "code",
   "execution_count": 1,
   "metadata": {},
   "outputs": [],
   "source": [
    "import numpy as np\n",
    "import pandas as pd\n",
    "pd.set_option('display.max_columns', 10)\n",
    "from mlxtend.feature_selection import SequentialFeatureSelector as SFS\n",
    "from mlxtend.feature_selection import ExhaustiveFeatureSelector as EFS\n",
    "from sklearn.linear_model import LinearRegression\n",
    "import matplotlib.pyplot as plt\n",
    "import math"
   ]
  },
  {
   "cell_type": "markdown",
   "metadata": {},
   "source": [
    "## Automobile Dataset"
   ]
  },
  {
   "cell_type": "markdown",
   "metadata": {},
   "source": [
    "We will use the Automobile Data Set [https://archive.ics.uci.edu/ml/datasets/automobile] from the UCI Machine Learning Repository [https://archive-beta.ics.uci.edu/]. It includes categorical and continuous variables. "
   ]
  },
  {
   "cell_type": "code",
   "execution_count": 2,
   "metadata": {},
   "outputs": [],
   "source": [
    "# Defining the headers\n",
    "headers = [\"symboling\", \"normalized_losses\", \"make\", \"fuel_type\", \"aspiration\", \"num_doors\", \"body_style\", \n",
    "           \"drive_wheels\", \"engine_location\", \"wheel_base\", \"length\", \"width\", \"height\", \"curb_weight\",\n",
    "           \"engine_type\", \"num_cylinders\", \"engine_size\", \"fuel_system\", \"bore\", \"stroke\", \"compression_ratio\", \n",
    "           \"horsepower\", \"peak_rpm\", \"city_mpg\", \"highway_mpg\", \"price\"]"
   ]
  },
  {
   "cell_type": "code",
   "execution_count": 3,
   "metadata": {},
   "outputs": [
    {
     "data": {
      "text/html": [
       "<div>\n",
       "<style scoped>\n",
       "    .dataframe tbody tr th:only-of-type {\n",
       "        vertical-align: middle;\n",
       "    }\n",
       "\n",
       "    .dataframe tbody tr th {\n",
       "        vertical-align: top;\n",
       "    }\n",
       "\n",
       "    .dataframe thead th {\n",
       "        text-align: right;\n",
       "    }\n",
       "</style>\n",
       "<table border=\"1\" class=\"dataframe\">\n",
       "  <thead>\n",
       "    <tr style=\"text-align: right;\">\n",
       "      <th></th>\n",
       "      <th>symboling</th>\n",
       "      <th>normalized_losses</th>\n",
       "      <th>make</th>\n",
       "      <th>fuel_type</th>\n",
       "      <th>aspiration</th>\n",
       "      <th>...</th>\n",
       "      <th>horsepower</th>\n",
       "      <th>peak_rpm</th>\n",
       "      <th>city_mpg</th>\n",
       "      <th>highway_mpg</th>\n",
       "      <th>price</th>\n",
       "    </tr>\n",
       "  </thead>\n",
       "  <tbody>\n",
       "    <tr>\n",
       "      <th>0</th>\n",
       "      <td>3</td>\n",
       "      <td>NaN</td>\n",
       "      <td>alfa-romero</td>\n",
       "      <td>gas</td>\n",
       "      <td>std</td>\n",
       "      <td>...</td>\n",
       "      <td>111.0</td>\n",
       "      <td>5000.0</td>\n",
       "      <td>21</td>\n",
       "      <td>27</td>\n",
       "      <td>13495.0</td>\n",
       "    </tr>\n",
       "    <tr>\n",
       "      <th>1</th>\n",
       "      <td>3</td>\n",
       "      <td>NaN</td>\n",
       "      <td>alfa-romero</td>\n",
       "      <td>gas</td>\n",
       "      <td>std</td>\n",
       "      <td>...</td>\n",
       "      <td>111.0</td>\n",
       "      <td>5000.0</td>\n",
       "      <td>21</td>\n",
       "      <td>27</td>\n",
       "      <td>16500.0</td>\n",
       "    </tr>\n",
       "    <tr>\n",
       "      <th>2</th>\n",
       "      <td>1</td>\n",
       "      <td>NaN</td>\n",
       "      <td>alfa-romero</td>\n",
       "      <td>gas</td>\n",
       "      <td>std</td>\n",
       "      <td>...</td>\n",
       "      <td>154.0</td>\n",
       "      <td>5000.0</td>\n",
       "      <td>19</td>\n",
       "      <td>26</td>\n",
       "      <td>16500.0</td>\n",
       "    </tr>\n",
       "    <tr>\n",
       "      <th>3</th>\n",
       "      <td>2</td>\n",
       "      <td>164.0</td>\n",
       "      <td>audi</td>\n",
       "      <td>gas</td>\n",
       "      <td>std</td>\n",
       "      <td>...</td>\n",
       "      <td>102.0</td>\n",
       "      <td>5500.0</td>\n",
       "      <td>24</td>\n",
       "      <td>30</td>\n",
       "      <td>13950.0</td>\n",
       "    </tr>\n",
       "    <tr>\n",
       "      <th>4</th>\n",
       "      <td>2</td>\n",
       "      <td>164.0</td>\n",
       "      <td>audi</td>\n",
       "      <td>gas</td>\n",
       "      <td>std</td>\n",
       "      <td>...</td>\n",
       "      <td>115.0</td>\n",
       "      <td>5500.0</td>\n",
       "      <td>18</td>\n",
       "      <td>22</td>\n",
       "      <td>17450.0</td>\n",
       "    </tr>\n",
       "  </tbody>\n",
       "</table>\n",
       "<p>5 rows × 26 columns</p>\n",
       "</div>"
      ],
      "text/plain": [
       "   symboling  normalized_losses         make fuel_type aspiration  ...  \\\n",
       "0          3                NaN  alfa-romero       gas        std  ...   \n",
       "1          3                NaN  alfa-romero       gas        std  ...   \n",
       "2          1                NaN  alfa-romero       gas        std  ...   \n",
       "3          2              164.0         audi       gas        std  ...   \n",
       "4          2              164.0         audi       gas        std  ...   \n",
       "\n",
       "  horsepower peak_rpm city_mpg highway_mpg    price  \n",
       "0      111.0   5000.0       21          27  13495.0  \n",
       "1      111.0   5000.0       21          27  16500.0  \n",
       "2      154.0   5000.0       19          26  16500.0  \n",
       "3      102.0   5500.0       24          30  13950.0  \n",
       "4      115.0   5500.0       18          22  17450.0  \n",
       "\n",
       "[5 rows x 26 columns]"
      ]
     },
     "execution_count": 3,
     "metadata": {},
     "output_type": "execute_result"
    }
   ],
   "source": [
    "df = pd.read_csv(\"https://archive.ics.uci.edu/ml/machine-learning-databases/autos/imports-85.data\",\n",
    "                  header=None, names=headers, na_values=\"?\" )\n",
    "df.head()"
   ]
  },
  {
   "cell_type": "markdown",
   "metadata": {},
   "source": [
    "### Missing Values Analysis"
   ]
  },
  {
   "cell_type": "code",
   "execution_count": 4,
   "metadata": {},
   "outputs": [
    {
     "data": {
      "text/plain": [
       "symboling             0\n",
       "normalized_losses    41\n",
       "make                  0\n",
       "fuel_type             0\n",
       "aspiration            0\n",
       "num_doors             2\n",
       "body_style            0\n",
       "drive_wheels          0\n",
       "engine_location       0\n",
       "wheel_base            0\n",
       "length                0\n",
       "width                 0\n",
       "height                0\n",
       "curb_weight           0\n",
       "engine_type           0\n",
       "num_cylinders         0\n",
       "engine_size           0\n",
       "fuel_system           0\n",
       "bore                  4\n",
       "stroke                4\n",
       "compression_ratio     0\n",
       "horsepower            2\n",
       "peak_rpm              2\n",
       "city_mpg              0\n",
       "highway_mpg           0\n",
       "price                 4\n",
       "dtype: int64"
      ]
     },
     "execution_count": 4,
     "metadata": {},
     "output_type": "execute_result"
    }
   ],
   "source": [
    "df.isnull().sum()"
   ]
  },
  {
   "cell_type": "code",
   "execution_count": 5,
   "metadata": {},
   "outputs": [
    {
     "data": {
      "text/plain": [
       "symboling            0\n",
       "normalized_losses    0\n",
       "make                 0\n",
       "fuel_type            0\n",
       "aspiration           0\n",
       "num_doors            0\n",
       "body_style           0\n",
       "drive_wheels         0\n",
       "engine_location      0\n",
       "wheel_base           0\n",
       "length               0\n",
       "width                0\n",
       "height               0\n",
       "curb_weight          0\n",
       "engine_type          0\n",
       "num_cylinders        0\n",
       "engine_size          0\n",
       "fuel_system          0\n",
       "bore                 0\n",
       "stroke               0\n",
       "compression_ratio    0\n",
       "horsepower           0\n",
       "peak_rpm             0\n",
       "city_mpg             0\n",
       "highway_mpg          0\n",
       "price                0\n",
       "dtype: int64"
      ]
     },
     "execution_count": 5,
     "metadata": {},
     "output_type": "execute_result"
    }
   ],
   "source": [
    "# Removing the missing values\n",
    "df.dropna(inplace=True)\n",
    "df.isnull().sum()"
   ]
  },
  {
   "cell_type": "markdown",
   "metadata": {},
   "source": [
    "### Getting the numerical variables"
   ]
  },
  {
   "cell_type": "code",
   "execution_count": 6,
   "metadata": {},
   "outputs": [
    {
     "data": {
      "text/plain": [
       "['symboling',\n",
       " 'normalized_losses',\n",
       " 'wheel_base',\n",
       " 'length',\n",
       " 'width',\n",
       " 'height',\n",
       " 'curb_weight',\n",
       " 'engine_size',\n",
       " 'bore',\n",
       " 'stroke',\n",
       " 'compression_ratio',\n",
       " 'horsepower',\n",
       " 'peak_rpm',\n",
       " 'city_mpg',\n",
       " 'highway_mpg',\n",
       " 'price']"
      ]
     },
     "execution_count": 6,
     "metadata": {},
     "output_type": "execute_result"
    }
   ],
   "source": [
    "# Getting the numerical variables\n",
    "var_num = [col for col in df.columns if (df[col].dtype == \"float64\" or df[col].dtype == \"int64\")]\n",
    "var_num"
   ]
  },
  {
   "cell_type": "code",
   "execution_count": 7,
   "metadata": {},
   "outputs": [],
   "source": [
    "Xnum = df[var_num]"
   ]
  },
  {
   "cell_type": "code",
   "execution_count": 8,
   "metadata": {},
   "outputs": [
    {
     "data": {
      "text/html": [
       "<div>\n",
       "<style scoped>\n",
       "    .dataframe tbody tr th:only-of-type {\n",
       "        vertical-align: middle;\n",
       "    }\n",
       "\n",
       "    .dataframe tbody tr th {\n",
       "        vertical-align: top;\n",
       "    }\n",
       "\n",
       "    .dataframe thead th {\n",
       "        text-align: right;\n",
       "    }\n",
       "</style>\n",
       "<table border=\"1\" class=\"dataframe\">\n",
       "  <thead>\n",
       "    <tr style=\"text-align: right;\">\n",
       "      <th></th>\n",
       "      <th>symboling</th>\n",
       "      <th>normalized_losses</th>\n",
       "      <th>wheel_base</th>\n",
       "      <th>length</th>\n",
       "      <th>width</th>\n",
       "      <th>...</th>\n",
       "      <th>compression_ratio</th>\n",
       "      <th>horsepower</th>\n",
       "      <th>peak_rpm</th>\n",
       "      <th>city_mpg</th>\n",
       "      <th>highway_mpg</th>\n",
       "    </tr>\n",
       "  </thead>\n",
       "  <tbody>\n",
       "    <tr>\n",
       "      <th>3</th>\n",
       "      <td>2</td>\n",
       "      <td>164.0</td>\n",
       "      <td>99.8</td>\n",
       "      <td>176.6</td>\n",
       "      <td>66.2</td>\n",
       "      <td>...</td>\n",
       "      <td>10.0</td>\n",
       "      <td>102.0</td>\n",
       "      <td>5500.0</td>\n",
       "      <td>24</td>\n",
       "      <td>30</td>\n",
       "    </tr>\n",
       "    <tr>\n",
       "      <th>4</th>\n",
       "      <td>2</td>\n",
       "      <td>164.0</td>\n",
       "      <td>99.4</td>\n",
       "      <td>176.6</td>\n",
       "      <td>66.4</td>\n",
       "      <td>...</td>\n",
       "      <td>8.0</td>\n",
       "      <td>115.0</td>\n",
       "      <td>5500.0</td>\n",
       "      <td>18</td>\n",
       "      <td>22</td>\n",
       "    </tr>\n",
       "    <tr>\n",
       "      <th>6</th>\n",
       "      <td>1</td>\n",
       "      <td>158.0</td>\n",
       "      <td>105.8</td>\n",
       "      <td>192.7</td>\n",
       "      <td>71.4</td>\n",
       "      <td>...</td>\n",
       "      <td>8.5</td>\n",
       "      <td>110.0</td>\n",
       "      <td>5500.0</td>\n",
       "      <td>19</td>\n",
       "      <td>25</td>\n",
       "    </tr>\n",
       "  </tbody>\n",
       "</table>\n",
       "<p>3 rows × 15 columns</p>\n",
       "</div>"
      ],
      "text/plain": [
       "   symboling  normalized_losses  wheel_base  length  width  ...  \\\n",
       "3          2              164.0        99.8   176.6   66.2  ...   \n",
       "4          2              164.0        99.4   176.6   66.4  ...   \n",
       "6          1              158.0       105.8   192.7   71.4  ...   \n",
       "\n",
       "   compression_ratio  horsepower  peak_rpm  city_mpg  highway_mpg  \n",
       "3               10.0       102.0    5500.0        24           30  \n",
       "4                8.0       115.0    5500.0        18           22  \n",
       "6                8.5       110.0    5500.0        19           25  \n",
       "\n",
       "[3 rows x 15 columns]"
      ]
     },
     "execution_count": 8,
     "metadata": {},
     "output_type": "execute_result"
    }
   ],
   "source": [
    "# removing price (the dependent variable)\n",
    "del(Xnum['price'])\n",
    "Xnum.head(3)"
   ]
  },
  {
   "cell_type": "code",
   "execution_count": 9,
   "metadata": {},
   "outputs": [],
   "source": [
    "# price is the dependent variable\n",
    "y = df.price"
   ]
  },
  {
   "cell_type": "markdown",
   "metadata": {},
   "source": [
    "## Forward Selection"
   ]
  },
  {
   "cell_type": "code",
   "execution_count": 10,
   "metadata": {},
   "outputs": [],
   "source": [
    "# Define Sequential Forward Selection (sfs)\n",
    "sfs = SFS(LinearRegression(), k_features=5, forward=True, verbose=0, scoring='r2', cv=0)"
   ]
  },
  {
   "cell_type": "markdown",
   "metadata": {},
   "source": [
    "- `k_features`: specifies the number of features to select\n",
    "- `forward=True`: performs step forward feature selection\n",
    "- `verbose`: parameter used for logging the progress of the feature selector\n",
    "- `scoring`: defines the performance evaluation criteria\n",
    "- `cv`: refers to cross-validation folds"
   ]
  },
  {
   "cell_type": "code",
   "execution_count": 11,
   "metadata": {},
   "outputs": [
    {
     "data": {
      "text/plain": [
       "SequentialFeatureSelector(cv=0, estimator=LinearRegression(), k_features=5,\n",
       "                          scoring='r2')"
      ]
     },
     "execution_count": 11,
     "metadata": {},
     "output_type": "execute_result"
    }
   ],
   "source": [
    "# Use SFS to select the top 6 features \n",
    "sfs.fit(Xnum, y)"
   ]
  },
  {
   "cell_type": "code",
   "execution_count": 12,
   "metadata": {},
   "outputs": [
    {
     "data": {
      "text/html": [
       "<div>\n",
       "<style scoped>\n",
       "    .dataframe tbody tr th:only-of-type {\n",
       "        vertical-align: middle;\n",
       "    }\n",
       "\n",
       "    .dataframe tbody tr th {\n",
       "        vertical-align: top;\n",
       "    }\n",
       "\n",
       "    .dataframe thead th {\n",
       "        text-align: right;\n",
       "    }\n",
       "</style>\n",
       "<table border=\"1\" class=\"dataframe\">\n",
       "  <thead>\n",
       "    <tr style=\"text-align: right;\">\n",
       "      <th></th>\n",
       "      <th>feature_idx</th>\n",
       "      <th>cv_scores</th>\n",
       "      <th>avg_score</th>\n",
       "      <th>feature_names</th>\n",
       "    </tr>\n",
       "  </thead>\n",
       "  <tbody>\n",
       "    <tr>\n",
       "      <th>1</th>\n",
       "      <td>(6,)</td>\n",
       "      <td>[0.7985907567612947]</td>\n",
       "      <td>0.798591</td>\n",
       "      <td>(curb_weight,)</td>\n",
       "    </tr>\n",
       "    <tr>\n",
       "      <th>2</th>\n",
       "      <td>(4, 6)</td>\n",
       "      <td>[0.8162457568403632]</td>\n",
       "      <td>0.816246</td>\n",
       "      <td>(width, curb_weight)</td>\n",
       "    </tr>\n",
       "    <tr>\n",
       "      <th>3</th>\n",
       "      <td>(4, 6, 7)</td>\n",
       "      <td>[0.8262534978374045]</td>\n",
       "      <td>0.826253</td>\n",
       "      <td>(width, curb_weight, engine_size)</td>\n",
       "    </tr>\n",
       "    <tr>\n",
       "      <th>4</th>\n",
       "      <td>(4, 6, 7, 12)</td>\n",
       "      <td>[0.8321633893107713]</td>\n",
       "      <td>0.832163</td>\n",
       "      <td>(width, curb_weight, engine_size, peak_rpm)</td>\n",
       "    </tr>\n",
       "    <tr>\n",
       "      <th>5</th>\n",
       "      <td>(3, 4, 6, 7, 12)</td>\n",
       "      <td>[0.8357155480104123]</td>\n",
       "      <td>0.835716</td>\n",
       "      <td>(length, width, curb_weight, engine_size, peak...</td>\n",
       "    </tr>\n",
       "  </tbody>\n",
       "</table>\n",
       "</div>"
      ],
      "text/plain": [
       "        feature_idx             cv_scores avg_score  \\\n",
       "1              (6,)  [0.7985907567612947]  0.798591   \n",
       "2            (4, 6)  [0.8162457568403632]  0.816246   \n",
       "3         (4, 6, 7)  [0.8262534978374045]  0.826253   \n",
       "4     (4, 6, 7, 12)  [0.8321633893107713]  0.832163   \n",
       "5  (3, 4, 6, 7, 12)  [0.8357155480104123]  0.835716   \n",
       "\n",
       "                                       feature_names  \n",
       "1                                     (curb_weight,)  \n",
       "2                               (width, curb_weight)  \n",
       "3                  (width, curb_weight, engine_size)  \n",
       "4        (width, curb_weight, engine_size, peak_rpm)  \n",
       "5  (length, width, curb_weight, engine_size, peak...  "
      ]
     },
     "execution_count": 12,
     "metadata": {},
     "output_type": "execute_result"
    }
   ],
   "source": [
    "df_F = pd.DataFrame(sfs.subsets_).T\n",
    "df_F"
   ]
  },
  {
   "cell_type": "code",
   "execution_count": 13,
   "metadata": {},
   "outputs": [
    {
     "data": {
      "image/png": "[encoded data removed]",
      "text/plain": [
       "<Figure size 432x360 with 1 Axes>"
      ]
     },
     "metadata": {
      "needs_background": "light"
     },
     "output_type": "display_data"
    }
   ],
   "source": [
    "# Plotting the results\n",
    "plt.figure(figsize=(6,5))\n",
    "plt.bar(x=df_F.index, height = df_F.avg_score*100, align='center', color='salmon')\n",
    "plt.xlabel('Number of Features', fontsize=12)\n",
    "plt.ylabel('Average R2', fontsize=12)\n",
    "plt.title('Forward Selection', fontsize=14)\n",
    "for i in df_F.index:\n",
    "    plt.text(i, df_F.avg_score[i]*100, np.round(df_F.avg_score[i]*100,2), \n",
    "             horizontalalignment='center', verticalalignment='bottom', fontsize=10)\n",
    "plt.show();"
   ]
  },
  {
   "cell_type": "code",
   "execution_count": 14,
   "metadata": {},
   "outputs": [
    {
     "name": "stdout",
     "output_type": "stream",
     "text": [
      "Step = 1     R2 = 0.80\n",
      "['curb_weight']\n",
      "Step = 2     R2 = 0.82\n",
      "['curb_weight', 'width']\n",
      "Step = 3     R2 = 0.83\n",
      "['curb_weight', 'width', 'engine_size']\n",
      "Step = 4     R2 = 0.83\n",
      "['curb_weight', 'width', 'engine_size', 'peak_rpm']\n",
      "Step = 5     R2 = 0.84\n",
      "['curb_weight', 'width', 'engine_size', 'peak_rpm', 'length']\n"
     ]
    }
   ],
   "source": [
    "feat_forward = []\n",
    "for i in df_F.index:\n",
    "    print(\"Step = %d     R2 = %.2f\"%(i, df_F.avg_score[i]))\n",
    "    var_added = set(df_F.feature_names[i]) - set(feat_forward)\n",
    "    feat_forward.append(list(var_added)[0])\n",
    "    print(feat_forward)"
   ]
  },
  {
   "cell_type": "code",
   "execution_count": 15,
   "metadata": {},
   "outputs": [
    {
     "name": "stdout",
     "output_type": "stream",
     "text": [
      "Features selected: ['curb_weight', 'width', 'engine_size', 'peak_rpm', 'length']\n"
     ]
    }
   ],
   "source": [
    "print('Features selected:', feat_forward)"
   ]
  },
  {
   "cell_type": "markdown",
   "metadata": {},
   "source": [
    "## Backward Elimination"
   ]
  },
  {
   "cell_type": "markdown",
   "metadata": {},
   "source": [
    "Step backward feature selection is the opposite of step forward feature selection. The algorithm starts with all the model variables and drops one in each step. "
   ]
  },
  {
   "cell_type": "code",
   "execution_count": 16,
   "metadata": {},
   "outputs": [],
   "source": [
    "# Define Sequential Backward Selection with forward=False (sbs)\n",
    "sbs = SFS(LinearRegression(), k_features=5, forward=False, verbose=0, scoring='r2', cv=0)"
   ]
  },
  {
   "cell_type": "code",
   "execution_count": 17,
   "metadata": {},
   "outputs": [
    {
     "data": {
      "text/plain": [
       "SequentialFeatureSelector(cv=0, estimator=LinearRegression(), forward=False,\n",
       "                          k_features=5, scoring='r2')"
      ]
     },
     "execution_count": 17,
     "metadata": {},
     "output_type": "execute_result"
    }
   ],
   "source": [
    "# Use SFS to select the top 5 features \n",
    "sbs.fit(Xnum, y)"
   ]
  },
  {
   "cell_type": "code",
   "execution_count": 18,
   "metadata": {},
   "outputs": [
    {
     "data": {
      "text/html": [
       "<div>\n",
       "<style scoped>\n",
       "    .dataframe tbody tr th:only-of-type {\n",
       "        vertical-align: middle;\n",
       "    }\n",
       "\n",
       "    .dataframe tbody tr th {\n",
       "        vertical-align: top;\n",
       "    }\n",
       "\n",
       "    .dataframe thead th {\n",
       "        text-align: right;\n",
       "    }\n",
       "</style>\n",
       "<table border=\"1\" class=\"dataframe\">\n",
       "  <thead>\n",
       "    <tr style=\"text-align: right;\">\n",
       "      <th></th>\n",
       "      <th>feature_idx</th>\n",
       "      <th>cv_scores</th>\n",
       "      <th>avg_score</th>\n",
       "      <th>feature_names</th>\n",
       "    </tr>\n",
       "  </thead>\n",
       "  <tbody>\n",
       "    <tr>\n",
       "      <th>15</th>\n",
       "      <td>(0, 1, 2, 3, 4, 5, 6, 7, 8, 9, 10, 11, 12, 13,...</td>\n",
       "      <td>[0.8507607303901003]</td>\n",
       "      <td>0.850761</td>\n",
       "      <td>(symboling, normalized_losses, wheel_base, len...</td>\n",
       "    </tr>\n",
       "    <tr>\n",
       "      <th>14</th>\n",
       "      <td>(0, 1, 2, 3, 4, 5, 6, 7, 8, 9, 10, 11, 12, 13)</td>\n",
       "      <td>[0.850751361099361]</td>\n",
       "      <td>0.850751</td>\n",
       "      <td>(symboling, normalized_losses, wheel_base, len...</td>\n",
       "    </tr>\n",
       "    <tr>\n",
       "      <th>13</th>\n",
       "      <td>(0, 1, 2, 3, 4, 5, 6, 7, 8, 9, 10, 11, 12)</td>\n",
       "      <td>[0.8507454657422958]</td>\n",
       "      <td>0.850745</td>\n",
       "      <td>(symboling, normalized_losses, wheel_base, len...</td>\n",
       "    </tr>\n",
       "    <tr>\n",
       "      <th>12</th>\n",
       "      <td>(0, 1, 2, 3, 4, 6, 7, 8, 9, 10, 11, 12)</td>\n",
       "      <td>[0.8506645318537353]</td>\n",
       "      <td>0.850665</td>\n",
       "      <td>(symboling, normalized_losses, wheel_base, len...</td>\n",
       "    </tr>\n",
       "    <tr>\n",
       "      <th>11</th>\n",
       "      <td>(1, 2, 3, 4, 6, 7, 8, 9, 10, 11, 12)</td>\n",
       "      <td>[0.8505494857766761]</td>\n",
       "      <td>0.850549</td>\n",
       "      <td>(normalized_losses, wheel_base, length, width,...</td>\n",
       "    </tr>\n",
       "    <tr>\n",
       "      <th>10</th>\n",
       "      <td>(2, 3, 4, 6, 7, 8, 9, 10, 11, 12)</td>\n",
       "      <td>[0.848957100789317]</td>\n",
       "      <td>0.848957</td>\n",
       "      <td>(wheel_base, length, width, curb_weight, engin...</td>\n",
       "    </tr>\n",
       "    <tr>\n",
       "      <th>9</th>\n",
       "      <td>(2, 3, 4, 6, 7, 8, 9, 10, 11)</td>\n",
       "      <td>[0.8464436291233958]</td>\n",
       "      <td>0.846444</td>\n",
       "      <td>(wheel_base, length, width, curb_weight, engin...</td>\n",
       "    </tr>\n",
       "    <tr>\n",
       "      <th>8</th>\n",
       "      <td>(2, 3, 4, 6, 7, 8, 9, 11)</td>\n",
       "      <td>[0.8443844716776634]</td>\n",
       "      <td>0.844384</td>\n",
       "      <td>(wheel_base, length, width, curb_weight, engin...</td>\n",
       "    </tr>\n",
       "    <tr>\n",
       "      <th>7</th>\n",
       "      <td>(3, 4, 6, 7, 8, 9, 11)</td>\n",
       "      <td>[0.8403389073922386]</td>\n",
       "      <td>0.840339</td>\n",
       "      <td>(length, width, curb_weight, engine_size, bore...</td>\n",
       "    </tr>\n",
       "    <tr>\n",
       "      <th>6</th>\n",
       "      <td>(4, 6, 7, 8, 9, 11)</td>\n",
       "      <td>[0.8382646985668196]</td>\n",
       "      <td>0.838265</td>\n",
       "      <td>(width, curb_weight, engine_size, bore, stroke...</td>\n",
       "    </tr>\n",
       "    <tr>\n",
       "      <th>5</th>\n",
       "      <td>(4, 6, 7, 8, 9)</td>\n",
       "      <td>[0.8351490089156366]</td>\n",
       "      <td>0.835149</td>\n",
       "      <td>(width, curb_weight, engine_size, bore, stroke)</td>\n",
       "    </tr>\n",
       "  </tbody>\n",
       "</table>\n",
       "</div>"
      ],
      "text/plain": [
       "                                          feature_idx             cv_scores  \\\n",
       "15  (0, 1, 2, 3, 4, 5, 6, 7, 8, 9, 10, 11, 12, 13,...  [0.8507607303901003]   \n",
       "14     (0, 1, 2, 3, 4, 5, 6, 7, 8, 9, 10, 11, 12, 13)   [0.850751361099361]   \n",
       "13         (0, 1, 2, 3, 4, 5, 6, 7, 8, 9, 10, 11, 12)  [0.8507454657422958]   \n",
       "12            (0, 1, 2, 3, 4, 6, 7, 8, 9, 10, 11, 12)  [0.8506645318537353]   \n",
       "11               (1, 2, 3, 4, 6, 7, 8, 9, 10, 11, 12)  [0.8505494857766761]   \n",
       "10                  (2, 3, 4, 6, 7, 8, 9, 10, 11, 12)   [0.848957100789317]   \n",
       "9                       (2, 3, 4, 6, 7, 8, 9, 10, 11)  [0.8464436291233958]   \n",
       "8                           (2, 3, 4, 6, 7, 8, 9, 11)  [0.8443844716776634]   \n",
       "7                              (3, 4, 6, 7, 8, 9, 11)  [0.8403389073922386]   \n",
       "6                                 (4, 6, 7, 8, 9, 11)  [0.8382646985668196]   \n",
       "5                                     (4, 6, 7, 8, 9)  [0.8351490089156366]   \n",
       "\n",
       "   avg_score                                      feature_names  \n",
       "15  0.850761  (symboling, normalized_losses, wheel_base, len...  \n",
       "14  0.850751  (symboling, normalized_losses, wheel_base, len...  \n",
       "13  0.850745  (symboling, normalized_losses, wheel_base, len...  \n",
       "12  0.850665  (symboling, normalized_losses, wheel_base, len...  \n",
       "11  0.850549  (normalized_losses, wheel_base, length, width,...  \n",
       "10  0.848957  (wheel_base, length, width, curb_weight, engin...  \n",
       "9   0.846444  (wheel_base, length, width, curb_weight, engin...  \n",
       "8   0.844384  (wheel_base, length, width, curb_weight, engin...  \n",
       "7   0.840339  (length, width, curb_weight, engine_size, bore...  \n",
       "6   0.838265  (width, curb_weight, engine_size, bore, stroke...  \n",
       "5   0.835149    (width, curb_weight, engine_size, bore, stroke)  "
      ]
     },
     "execution_count": 18,
     "metadata": {},
     "output_type": "execute_result"
    }
   ],
   "source": [
    "df_B = pd.DataFrame(sbs.subsets_).T\n",
    "df_B"
   ]
  },
  {
   "cell_type": "code",
   "execution_count": 19,
   "metadata": {},
   "outputs": [
    {
     "data": {
      "image/png": "[encoded data removed]",
      "text/plain": [
       "<Figure size 936x360 with 1 Axes>"
      ]
     },
     "metadata": {
      "needs_background": "light"
     },
     "output_type": "display_data"
    }
   ],
   "source": [
    "plt.figure(figsize=(13,5))\n",
    "plt.bar(x=df_B.index, height = df_B.avg_score*100, align='center', color='skyblue')\n",
    "plt.xticks(df_B.index)\n",
    "plt.xlabel('Number of Features')\n",
    "plt.ylabel('Average R2')\n",
    "plt.title('Backward Elimination', fontsize=14)\n",
    "for i in df_B.index:\n",
    "    plt.text(i, df_B.avg_score[i]*100, np.round(df_B.avg_score[i]*100,2), \n",
    "             horizontalalignment='center', verticalalignment='bottom', fontsize=10);"
   ]
  },
  {
   "cell_type": "code",
   "execution_count": 20,
   "metadata": {},
   "outputs": [
    {
     "name": "stdout",
     "output_type": "stream",
     "text": [
      "Step = 15     R2 = 0.85\n",
      "var_deleted = []\n",
      "Step = 14     R2 = 0.85\n",
      "var_deleted = ['highway_mpg']\n",
      "Step = 13     R2 = 0.85\n",
      "var_deleted = ['highway_mpg', 'city_mpg']\n",
      "Step = 12     R2 = 0.85\n",
      "var_deleted = ['highway_mpg', 'height', 'city_mpg']\n",
      "Step = 11     R2 = 0.85\n",
      "var_deleted = ['highway_mpg', 'height', 'symboling', 'city_mpg']\n",
      "Step = 10     R2 = 0.85\n",
      "var_deleted = ['symboling', 'height', 'normalized_losses', 'highway_mpg', 'city_mpg']\n",
      "Step = 9     R2 = 0.85\n",
      "var_deleted = ['symboling', 'height', 'normalized_losses', 'peak_rpm', 'highway_mpg', 'city_mpg']\n",
      "Step = 8     R2 = 0.84\n",
      "var_deleted = ['symboling', 'height', 'normalized_losses', 'peak_rpm', 'compression_ratio', 'highway_mpg', 'city_mpg']\n",
      "Step = 7     R2 = 0.84\n",
      "var_deleted = ['wheel_base', 'symboling', 'height', 'normalized_losses', 'peak_rpm', 'compression_ratio', 'highway_mpg', 'city_mpg']\n",
      "Step = 6     R2 = 0.84\n",
      "var_deleted = ['wheel_base', 'symboling', 'height', 'normalized_losses', 'peak_rpm', 'compression_ratio', 'highway_mpg', 'city_mpg', 'length']\n",
      "Step = 5     R2 = 0.84\n",
      "var_deleted = ['wheel_base', 'symboling', 'height', 'normalized_losses', 'peak_rpm', 'compression_ratio', 'highway_mpg', 'city_mpg', 'horsepower', 'length']\n"
     ]
    }
   ],
   "source": [
    "features = list(df_B.feature_names[15])\n",
    "for i in df_B.index:\n",
    "    print(\"Step = %d     R2 = %.2f\"%(i, df_B.avg_score[i]))\n",
    "    var_deleted = set(features) - set(df_B.feature_names[i])\n",
    "    print('var_deleted =',list(var_deleted))"
   ]
  },
  {
   "cell_type": "code",
   "execution_count": 21,
   "metadata": {},
   "outputs": [
    {
     "name": "stdout",
     "output_type": "stream",
     "text": [
      "Features selected: ['curb_weight', 'bore', 'stroke', 'engine_size', 'width']\n"
     ]
    }
   ],
   "source": [
    "# Printing the chosen variables\n",
    "feat_backward = list(set(features) - set(var_deleted))\n",
    "print('Features selected:', feat_backward)"
   ]
  },
  {
   "cell_type": "code",
   "execution_count": 22,
   "metadata": {},
   "outputs": [
    {
     "name": "stdout",
     "output_type": "stream",
     "text": [
      "Features in forward  method: ['curb_weight', 'width', 'engine_size', 'peak_rpm', 'length']\n",
      "Features in backward method: ['curb_weight', 'bore', 'stroke', 'engine_size', 'width']\n"
     ]
    }
   ],
   "source": [
    "print('Features in forward  method:', feat_forward)\n",
    "print('Features in backward method:', feat_backward)"
   ]
  },
  {
   "cell_type": "markdown",
   "metadata": {},
   "source": [
    "As you can see, both selections are slightly different."
   ]
  },
  {
   "cell_type": "markdown",
   "metadata": {},
   "source": [
    "## Bidirectional search (Forward Stepwise Selection)"
   ]
  },
  {
   "cell_type": "code",
   "execution_count": 23,
   "metadata": {},
   "outputs": [],
   "source": [
    "# Define Sequential Forward Selection (sfs)\n",
    "sfs2 = SFS(LinearRegression(), k_features=5, forward=True, floating=True, verbose=0, scoring='r2', cv=0)"
   ]
  },
  {
   "cell_type": "markdown",
   "metadata": {},
   "source": [
    "The parameters used are the same, except for:\n",
    "- `floating=True`: it adds a conditional exclusion/inclusion of features to create a bi-directional selection. When `forward=True`, with every forward iteration (in Sequential Forward Selection), it also considers excluding any feature in the previous iteration to optimize performance."
   ]
  },
  {
   "cell_type": "code",
   "execution_count": 24,
   "metadata": {},
   "outputs": [
    {
     "data": {
      "text/plain": [
       "SequentialFeatureSelector(cv=0, estimator=LinearRegression(), floating=True,\n",
       "                          k_features=5, scoring='r2')"
      ]
     },
     "execution_count": 24,
     "metadata": {},
     "output_type": "execute_result"
    }
   ],
   "source": [
    "# Use SFS to select the top features \n",
    "sfs2.fit(Xnum, y)"
   ]
  },
  {
   "cell_type": "code",
   "execution_count": 25,
   "metadata": {},
   "outputs": [
    {
     "data": {
      "text/html": [
       "<div>\n",
       "<style scoped>\n",
       "    .dataframe tbody tr th:only-of-type {\n",
       "        vertical-align: middle;\n",
       "    }\n",
       "\n",
       "    .dataframe tbody tr th {\n",
       "        vertical-align: top;\n",
       "    }\n",
       "\n",
       "    .dataframe thead th {\n",
       "        text-align: right;\n",
       "    }\n",
       "</style>\n",
       "<table border=\"1\" class=\"dataframe\">\n",
       "  <thead>\n",
       "    <tr style=\"text-align: right;\">\n",
       "      <th></th>\n",
       "      <th>feature_idx</th>\n",
       "      <th>cv_scores</th>\n",
       "      <th>avg_score</th>\n",
       "      <th>feature_names</th>\n",
       "    </tr>\n",
       "  </thead>\n",
       "  <tbody>\n",
       "    <tr>\n",
       "      <th>1</th>\n",
       "      <td>(6,)</td>\n",
       "      <td>[0.7985907567612947]</td>\n",
       "      <td>0.798591</td>\n",
       "      <td>(curb_weight,)</td>\n",
       "    </tr>\n",
       "    <tr>\n",
       "      <th>2</th>\n",
       "      <td>(4, 6)</td>\n",
       "      <td>[0.8162457568403632]</td>\n",
       "      <td>0.816246</td>\n",
       "      <td>(width, curb_weight)</td>\n",
       "    </tr>\n",
       "    <tr>\n",
       "      <th>3</th>\n",
       "      <td>(4, 6, 7)</td>\n",
       "      <td>[0.8262534978374045]</td>\n",
       "      <td>0.826253</td>\n",
       "      <td>(width, curb_weight, engine_size)</td>\n",
       "    </tr>\n",
       "    <tr>\n",
       "      <th>4</th>\n",
       "      <td>(4, 6, 7, 12)</td>\n",
       "      <td>[0.8321633893107713]</td>\n",
       "      <td>0.832163</td>\n",
       "      <td>(width, curb_weight, engine_size, peak_rpm)</td>\n",
       "    </tr>\n",
       "    <tr>\n",
       "      <th>5</th>\n",
       "      <td>(3, 4, 6, 7, 12)</td>\n",
       "      <td>[0.8357155480104123]</td>\n",
       "      <td>0.835716</td>\n",
       "      <td>(length, width, curb_weight, engine_size, peak...</td>\n",
       "    </tr>\n",
       "  </tbody>\n",
       "</table>\n",
       "</div>"
      ],
      "text/plain": [
       "        feature_idx             cv_scores avg_score  \\\n",
       "1              (6,)  [0.7985907567612947]  0.798591   \n",
       "2            (4, 6)  [0.8162457568403632]  0.816246   \n",
       "3         (4, 6, 7)  [0.8262534978374045]  0.826253   \n",
       "4     (4, 6, 7, 12)  [0.8321633893107713]  0.832163   \n",
       "5  (3, 4, 6, 7, 12)  [0.8357155480104123]  0.835716   \n",
       "\n",
       "                                       feature_names  \n",
       "1                                     (curb_weight,)  \n",
       "2                               (width, curb_weight)  \n",
       "3                  (width, curb_weight, engine_size)  \n",
       "4        (width, curb_weight, engine_size, peak_rpm)  \n",
       "5  (length, width, curb_weight, engine_size, peak...  "
      ]
     },
     "execution_count": 25,
     "metadata": {},
     "output_type": "execute_result"
    }
   ],
   "source": [
    "df_FS = pd.DataFrame(sfs2.subsets_).T\n",
    "df_FS"
   ]
  },
  {
   "cell_type": "code",
   "execution_count": 26,
   "metadata": {},
   "outputs": [
    {
     "data": {
      "image/png": "[encoded data removed]",
      "text/plain": [
       "<Figure size 432x360 with 1 Axes>"
      ]
     },
     "metadata": {
      "needs_background": "light"
     },
     "output_type": "display_data"
    }
   ],
   "source": [
    "# Plotting the results\n",
    "plt.figure(figsize=(6 ,5))\n",
    "plt.bar(x=df_FS.index, height = df_FS.avg_score*100, align='center', color='salmon')\n",
    "plt.xlabel('Number of Features', fontsize=12)\n",
    "plt.ylabel('Average R2', fontsize=12)\n",
    "plt.title('Forward Selection', fontsize=14)\n",
    "for i in df_FS.index:\n",
    "    plt.text(i, df_FS.avg_score[i]*100, np.round(df_FS.avg_score[i]*100,2), \n",
    "             horizontalalignment='center', verticalalignment='bottom', fontsize=10)\n",
    "plt.show();"
   ]
  },
  {
   "cell_type": "code",
   "execution_count": 27,
   "metadata": {},
   "outputs": [
    {
     "name": "stdout",
     "output_type": "stream",
     "text": [
      "Step = 1     R2 = 0.80\n",
      "['curb_weight']\n",
      "Step = 2     R2 = 0.82\n",
      "['curb_weight', 'width']\n",
      "Step = 3     R2 = 0.83\n",
      "['curb_weight', 'width', 'engine_size']\n",
      "Step = 4     R2 = 0.83\n",
      "['curb_weight', 'width', 'engine_size', 'peak_rpm']\n",
      "Step = 5     R2 = 0.84\n",
      "['curb_weight', 'width', 'engine_size', 'peak_rpm', 'length']\n"
     ]
    }
   ],
   "source": [
    "featS_forwardS = []\n",
    "for i in df_FS.index:\n",
    "    print(\"Step = %d     R2 = %.2f\"%(i, df_FS.avg_score[i]))\n",
    "    var_addedS = set(df_FS.feature_names[i]) - set(featS_forwardS)\n",
    "    featS_forwardS.append(list(var_addedS)[0])\n",
    "    print(featS_forwardS)"
   ]
  },
  {
   "cell_type": "code",
   "execution_count": 28,
   "metadata": {},
   "outputs": [
    {
     "name": "stdout",
     "output_type": "stream",
     "text": [
      "Features selected: ['curb_weight', 'width', 'engine_size', 'peak_rpm', 'length']\n"
     ]
    }
   ],
   "source": [
    "print('Features selected:', feat_forward)"
   ]
  },
  {
   "cell_type": "markdown",
   "metadata": {},
   "source": [
    "In this case, forward and stepwise selection got the same features set."
   ]
  },
  {
   "cell_type": "markdown",
   "metadata": {},
   "source": [
    "## Bidirectional search (Backward Stepwise Elimination)"
   ]
  },
  {
   "cell_type": "code",
   "execution_count": 29,
   "metadata": {},
   "outputs": [],
   "source": [
    "# Define Sequential Backward Selection with forward=False (sbs)\n",
    "sbs2 = SFS(LinearRegression(), k_features=5, forward=False, floating=True, verbose=0, scoring='r2', cv=0)"
   ]
  },
  {
   "cell_type": "markdown",
   "metadata": {},
   "source": [
    "- `floating=True` adds a conditional exclusion/inclusion"
   ]
  },
  {
   "cell_type": "code",
   "execution_count": 30,
   "metadata": {},
   "outputs": [
    {
     "data": {
      "text/plain": [
       "SequentialFeatureSelector(cv=0, estimator=LinearRegression(), floating=True,\n",
       "                          forward=False, k_features=5, scoring='r2')"
      ]
     },
     "execution_count": 30,
     "metadata": {},
     "output_type": "execute_result"
    }
   ],
   "source": [
    "# Use SFS to select the top 6 features \n",
    "sbs2.fit(Xnum, y)"
   ]
  },
  {
   "cell_type": "code",
   "execution_count": 31,
   "metadata": {},
   "outputs": [
    {
     "data": {
      "text/html": [
       "<div>\n",
       "<style scoped>\n",
       "    .dataframe tbody tr th:only-of-type {\n",
       "        vertical-align: middle;\n",
       "    }\n",
       "\n",
       "    .dataframe tbody tr th {\n",
       "        vertical-align: top;\n",
       "    }\n",
       "\n",
       "    .dataframe thead th {\n",
       "        text-align: right;\n",
       "    }\n",
       "</style>\n",
       "<table border=\"1\" class=\"dataframe\">\n",
       "  <thead>\n",
       "    <tr style=\"text-align: right;\">\n",
       "      <th></th>\n",
       "      <th>feature_idx</th>\n",
       "      <th>cv_scores</th>\n",
       "      <th>avg_score</th>\n",
       "      <th>feature_names</th>\n",
       "    </tr>\n",
       "  </thead>\n",
       "  <tbody>\n",
       "    <tr>\n",
       "      <th>15</th>\n",
       "      <td>(0, 1, 2, 3, 4, 5, 6, 7, 8, 9, 10, 11, 12, 13,...</td>\n",
       "      <td>[0.8507607303901003]</td>\n",
       "      <td>0.850761</td>\n",
       "      <td>(symboling, normalized_losses, wheel_base, len...</td>\n",
       "    </tr>\n",
       "    <tr>\n",
       "      <th>14</th>\n",
       "      <td>(0, 1, 2, 3, 4, 5, 6, 7, 8, 9, 10, 11, 12, 13)</td>\n",
       "      <td>[0.850751361099361]</td>\n",
       "      <td>0.850751</td>\n",
       "      <td>(symboling, normalized_losses, wheel_base, len...</td>\n",
       "    </tr>\n",
       "    <tr>\n",
       "      <th>13</th>\n",
       "      <td>(0, 1, 2, 3, 4, 5, 6, 7, 8, 9, 10, 11, 12)</td>\n",
       "      <td>[0.8507454657422958]</td>\n",
       "      <td>0.850745</td>\n",
       "      <td>(symboling, normalized_losses, wheel_base, len...</td>\n",
       "    </tr>\n",
       "    <tr>\n",
       "      <th>12</th>\n",
       "      <td>(0, 1, 2, 3, 4, 6, 7, 8, 9, 10, 11, 12)</td>\n",
       "      <td>[0.8506645318537353]</td>\n",
       "      <td>0.850665</td>\n",
       "      <td>(symboling, normalized_losses, wheel_base, len...</td>\n",
       "    </tr>\n",
       "    <tr>\n",
       "      <th>11</th>\n",
       "      <td>(1, 2, 3, 4, 6, 7, 8, 9, 10, 11, 12)</td>\n",
       "      <td>[0.8505494857766761]</td>\n",
       "      <td>0.850549</td>\n",
       "      <td>(normalized_losses, wheel_base, length, width,...</td>\n",
       "    </tr>\n",
       "    <tr>\n",
       "      <th>10</th>\n",
       "      <td>(2, 3, 4, 6, 7, 8, 9, 10, 11, 12)</td>\n",
       "      <td>[0.848957100789317]</td>\n",
       "      <td>0.848957</td>\n",
       "      <td>(wheel_base, length, width, curb_weight, engin...</td>\n",
       "    </tr>\n",
       "    <tr>\n",
       "      <th>9</th>\n",
       "      <td>(1, 2, 3, 4, 6, 7, 8, 9, 11)</td>\n",
       "      <td>[0.8466312446168338]</td>\n",
       "      <td>0.846631</td>\n",
       "      <td>(normalized_losses, wheel_base, length, width,...</td>\n",
       "    </tr>\n",
       "    <tr>\n",
       "      <th>8</th>\n",
       "      <td>(2, 3, 4, 6, 7, 8, 9, 11)</td>\n",
       "      <td>[0.8443844716776634]</td>\n",
       "      <td>0.844384</td>\n",
       "      <td>(wheel_base, length, width, curb_weight, engin...</td>\n",
       "    </tr>\n",
       "    <tr>\n",
       "      <th>7</th>\n",
       "      <td>(4, 6, 7, 8, 9, 10, 12)</td>\n",
       "      <td>[0.8416109921102736]</td>\n",
       "      <td>0.841611</td>\n",
       "      <td>(width, curb_weight, engine_size, bore, stroke...</td>\n",
       "    </tr>\n",
       "    <tr>\n",
       "      <th>6</th>\n",
       "      <td>(4, 6, 7, 8, 9, 12)</td>\n",
       "      <td>[0.8396059394948505]</td>\n",
       "      <td>0.839606</td>\n",
       "      <td>(width, curb_weight, engine_size, bore, stroke...</td>\n",
       "    </tr>\n",
       "    <tr>\n",
       "      <th>5</th>\n",
       "      <td>(4, 6, 7, 8, 9)</td>\n",
       "      <td>[0.8351490089156366]</td>\n",
       "      <td>0.835149</td>\n",
       "      <td>(width, curb_weight, engine_size, bore, stroke)</td>\n",
       "    </tr>\n",
       "  </tbody>\n",
       "</table>\n",
       "</div>"
      ],
      "text/plain": [
       "                                          feature_idx             cv_scores  \\\n",
       "15  (0, 1, 2, 3, 4, 5, 6, 7, 8, 9, 10, 11, 12, 13,...  [0.8507607303901003]   \n",
       "14     (0, 1, 2, 3, 4, 5, 6, 7, 8, 9, 10, 11, 12, 13)   [0.850751361099361]   \n",
       "13         (0, 1, 2, 3, 4, 5, 6, 7, 8, 9, 10, 11, 12)  [0.8507454657422958]   \n",
       "12            (0, 1, 2, 3, 4, 6, 7, 8, 9, 10, 11, 12)  [0.8506645318537353]   \n",
       "11               (1, 2, 3, 4, 6, 7, 8, 9, 10, 11, 12)  [0.8505494857766761]   \n",
       "10                  (2, 3, 4, 6, 7, 8, 9, 10, 11, 12)   [0.848957100789317]   \n",
       "9                        (1, 2, 3, 4, 6, 7, 8, 9, 11)  [0.8466312446168338]   \n",
       "8                           (2, 3, 4, 6, 7, 8, 9, 11)  [0.8443844716776634]   \n",
       "7                             (4, 6, 7, 8, 9, 10, 12)  [0.8416109921102736]   \n",
       "6                                 (4, 6, 7, 8, 9, 12)  [0.8396059394948505]   \n",
       "5                                     (4, 6, 7, 8, 9)  [0.8351490089156366]   \n",
       "\n",
       "   avg_score                                      feature_names  \n",
       "15  0.850761  (symboling, normalized_losses, wheel_base, len...  \n",
       "14  0.850751  (symboling, normalized_losses, wheel_base, len...  \n",
       "13  0.850745  (symboling, normalized_losses, wheel_base, len...  \n",
       "12  0.850665  (symboling, normalized_losses, wheel_base, len...  \n",
       "11  0.850549  (normalized_losses, wheel_base, length, width,...  \n",
       "10  0.848957  (wheel_base, length, width, curb_weight, engin...  \n",
       "9   0.846631  (normalized_losses, wheel_base, length, width,...  \n",
       "8   0.844384  (wheel_base, length, width, curb_weight, engin...  \n",
       "7   0.841611  (width, curb_weight, engine_size, bore, stroke...  \n",
       "6   0.839606  (width, curb_weight, engine_size, bore, stroke...  \n",
       "5   0.835149    (width, curb_weight, engine_size, bore, stroke)  "
      ]
     },
     "execution_count": 31,
     "metadata": {},
     "output_type": "execute_result"
    }
   ],
   "source": [
    "df_BS = pd.DataFrame(sbs2.subsets_).T\n",
    "df_BS"
   ]
  },
  {
   "cell_type": "code",
   "execution_count": 32,
   "metadata": {},
   "outputs": [
    {
     "data": {
      "text/html": [
       "<div>\n",
       "<style scoped>\n",
       "    .dataframe tbody tr th:only-of-type {\n",
       "        vertical-align: middle;\n",
       "    }\n",
       "\n",
       "    .dataframe tbody tr th {\n",
       "        vertical-align: top;\n",
       "    }\n",
       "\n",
       "    .dataframe thead th {\n",
       "        text-align: right;\n",
       "    }\n",
       "</style>\n",
       "<table border=\"1\" class=\"dataframe\">\n",
       "  <thead>\n",
       "    <tr style=\"text-align: right;\">\n",
       "      <th></th>\n",
       "      <th>feature_idx</th>\n",
       "      <th>cv_scores</th>\n",
       "      <th>avg_score</th>\n",
       "      <th>feature_names</th>\n",
       "    </tr>\n",
       "  </thead>\n",
       "  <tbody>\n",
       "    <tr>\n",
       "      <th>15</th>\n",
       "      <td>(0, 1, 2, 3, 4, 5, 6, 7, 8, 9, 10, 11, 12, 13,...</td>\n",
       "      <td>[0.8507607303901003]</td>\n",
       "      <td>0.850761</td>\n",
       "      <td>(symboling, normalized_losses, wheel_base, len...</td>\n",
       "    </tr>\n",
       "    <tr>\n",
       "      <th>14</th>\n",
       "      <td>(0, 1, 2, 3, 4, 5, 6, 7, 8, 9, 10, 11, 12, 13)</td>\n",
       "      <td>[0.850751361099361]</td>\n",
       "      <td>0.850751</td>\n",
       "      <td>(symboling, normalized_losses, wheel_base, len...</td>\n",
       "    </tr>\n",
       "    <tr>\n",
       "      <th>13</th>\n",
       "      <td>(0, 1, 2, 3, 4, 5, 6, 7, 8, 9, 10, 11, 12)</td>\n",
       "      <td>[0.8507454657422958]</td>\n",
       "      <td>0.850745</td>\n",
       "      <td>(symboling, normalized_losses, wheel_base, len...</td>\n",
       "    </tr>\n",
       "    <tr>\n",
       "      <th>12</th>\n",
       "      <td>(0, 1, 2, 3, 4, 6, 7, 8, 9, 10, 11, 12)</td>\n",
       "      <td>[0.8506645318537353]</td>\n",
       "      <td>0.850665</td>\n",
       "      <td>(symboling, normalized_losses, wheel_base, len...</td>\n",
       "    </tr>\n",
       "    <tr>\n",
       "      <th>11</th>\n",
       "      <td>(1, 2, 3, 4, 6, 7, 8, 9, 10, 11, 12)</td>\n",
       "      <td>[0.8505494857766761]</td>\n",
       "      <td>0.850549</td>\n",
       "      <td>(normalized_losses, wheel_base, length, width,...</td>\n",
       "    </tr>\n",
       "    <tr>\n",
       "      <th>10</th>\n",
       "      <td>(2, 3, 4, 6, 7, 8, 9, 10, 11, 12)</td>\n",
       "      <td>[0.848957100789317]</td>\n",
       "      <td>0.848957</td>\n",
       "      <td>(wheel_base, length, width, curb_weight, engin...</td>\n",
       "    </tr>\n",
       "    <tr>\n",
       "      <th>9</th>\n",
       "      <td>(1, 2, 3, 4, 6, 7, 8, 9, 11)</td>\n",
       "      <td>[0.8466312446168338]</td>\n",
       "      <td>0.846631</td>\n",
       "      <td>(normalized_losses, wheel_base, length, width,...</td>\n",
       "    </tr>\n",
       "    <tr>\n",
       "      <th>8</th>\n",
       "      <td>(2, 3, 4, 6, 7, 8, 9, 11)</td>\n",
       "      <td>[0.8443844716776634]</td>\n",
       "      <td>0.844384</td>\n",
       "      <td>(wheel_base, length, width, curb_weight, engin...</td>\n",
       "    </tr>\n",
       "    <tr>\n",
       "      <th>7</th>\n",
       "      <td>(4, 6, 7, 8, 9, 10, 12)</td>\n",
       "      <td>[0.8416109921102736]</td>\n",
       "      <td>0.841611</td>\n",
       "      <td>(width, curb_weight, engine_size, bore, stroke...</td>\n",
       "    </tr>\n",
       "    <tr>\n",
       "      <th>6</th>\n",
       "      <td>(4, 6, 7, 8, 9, 12)</td>\n",
       "      <td>[0.8396059394948505]</td>\n",
       "      <td>0.839606</td>\n",
       "      <td>(width, curb_weight, engine_size, bore, stroke...</td>\n",
       "    </tr>\n",
       "    <tr>\n",
       "      <th>5</th>\n",
       "      <td>(4, 6, 7, 8, 9)</td>\n",
       "      <td>[0.8351490089156366]</td>\n",
       "      <td>0.835149</td>\n",
       "      <td>(width, curb_weight, engine_size, bore, stroke)</td>\n",
       "    </tr>\n",
       "  </tbody>\n",
       "</table>\n",
       "</div>"
      ],
      "text/plain": [
       "                                          feature_idx             cv_scores  \\\n",
       "15  (0, 1, 2, 3, 4, 5, 6, 7, 8, 9, 10, 11, 12, 13,...  [0.8507607303901003]   \n",
       "14     (0, 1, 2, 3, 4, 5, 6, 7, 8, 9, 10, 11, 12, 13)   [0.850751361099361]   \n",
       "13         (0, 1, 2, 3, 4, 5, 6, 7, 8, 9, 10, 11, 12)  [0.8507454657422958]   \n",
       "12            (0, 1, 2, 3, 4, 6, 7, 8, 9, 10, 11, 12)  [0.8506645318537353]   \n",
       "11               (1, 2, 3, 4, 6, 7, 8, 9, 10, 11, 12)  [0.8505494857766761]   \n",
       "10                  (2, 3, 4, 6, 7, 8, 9, 10, 11, 12)   [0.848957100789317]   \n",
       "9                        (1, 2, 3, 4, 6, 7, 8, 9, 11)  [0.8466312446168338]   \n",
       "8                           (2, 3, 4, 6, 7, 8, 9, 11)  [0.8443844716776634]   \n",
       "7                             (4, 6, 7, 8, 9, 10, 12)  [0.8416109921102736]   \n",
       "6                                 (4, 6, 7, 8, 9, 12)  [0.8396059394948505]   \n",
       "5                                     (4, 6, 7, 8, 9)  [0.8351490089156366]   \n",
       "\n",
       "   avg_score                                      feature_names  \n",
       "15  0.850761  (symboling, normalized_losses, wheel_base, len...  \n",
       "14  0.850751  (symboling, normalized_losses, wheel_base, len...  \n",
       "13  0.850745  (symboling, normalized_losses, wheel_base, len...  \n",
       "12  0.850665  (symboling, normalized_losses, wheel_base, len...  \n",
       "11  0.850549  (normalized_losses, wheel_base, length, width,...  \n",
       "10  0.848957  (wheel_base, length, width, curb_weight, engin...  \n",
       "9   0.846631  (normalized_losses, wheel_base, length, width,...  \n",
       "8   0.844384  (wheel_base, length, width, curb_weight, engin...  \n",
       "7   0.841611  (width, curb_weight, engine_size, bore, stroke...  \n",
       "6   0.839606  (width, curb_weight, engine_size, bore, stroke...  \n",
       "5   0.835149    (width, curb_weight, engine_size, bore, stroke)  "
      ]
     },
     "execution_count": 32,
     "metadata": {},
     "output_type": "execute_result"
    }
   ],
   "source": [
    "df_BS = pd.DataFrame(sbs2.subsets_).T\n",
    "df_BS"
   ]
  },
  {
   "cell_type": "code",
   "execution_count": 33,
   "metadata": {},
   "outputs": [
    {
     "data": {
      "image/png": "[encoded data removed]",
      "text/plain": [
       "<Figure size 936x360 with 1 Axes>"
      ]
     },
     "metadata": {
      "needs_background": "light"
     },
     "output_type": "display_data"
    }
   ],
   "source": [
    "plt.figure(figsize=(13,5))\n",
    "plt.bar(x=df_BS.index, height = df_BS.avg_score*100, align='center', color='skyblue')\n",
    "plt.xticks(df_BS.index)\n",
    "plt.xlabel('Number of Features')\n",
    "plt.ylabel('Average R2')\n",
    "plt.title('Backward Elimination', fontsize=14)\n",
    "for i in df_BS.index:\n",
    "    plt.text(i, df_BS.avg_score[i]*100, np.round(df_BS.avg_score[i]*100,2), \n",
    "             horizontalalignment='center', verticalalignment='bottom', fontsize=10);"
   ]
  },
  {
   "cell_type": "code",
   "execution_count": 34,
   "metadata": {},
   "outputs": [
    {
     "name": "stdout",
     "output_type": "stream",
     "text": [
      "Step = 15     R2 = 0.85\n",
      "var_deleted = []\n",
      "Step = 14     R2 = 0.85\n",
      "var_deleted = ['highway_mpg']\n",
      "Step = 13     R2 = 0.85\n",
      "var_deleted = ['highway_mpg', 'city_mpg']\n",
      "Step = 12     R2 = 0.85\n",
      "var_deleted = ['highway_mpg', 'height', 'city_mpg']\n",
      "Step = 11     R2 = 0.85\n",
      "var_deleted = ['highway_mpg', 'height', 'symboling', 'city_mpg']\n",
      "Step = 10     R2 = 0.85\n",
      "var_deleted = ['symboling', 'height', 'normalized_losses', 'highway_mpg', 'city_mpg']\n",
      "Step = 9     R2 = 0.85\n",
      "var_deleted = ['symboling', 'height', 'peak_rpm', 'compression_ratio', 'highway_mpg', 'city_mpg']\n",
      "Step = 8     R2 = 0.84\n",
      "var_deleted = ['symboling', 'height', 'normalized_losses', 'peak_rpm', 'compression_ratio', 'highway_mpg', 'city_mpg']\n",
      "Step = 7     R2 = 0.84\n",
      "var_deleted = ['wheel_base', 'symboling', 'height', 'normalized_losses', 'highway_mpg', 'city_mpg', 'horsepower', 'length']\n",
      "Step = 6     R2 = 0.84\n",
      "var_deleted = ['wheel_base', 'symboling', 'height', 'normalized_losses', 'compression_ratio', 'highway_mpg', 'city_mpg', 'horsepower', 'length']\n",
      "Step = 5     R2 = 0.84\n",
      "var_deleted = ['wheel_base', 'symboling', 'height', 'normalized_losses', 'peak_rpm', 'compression_ratio', 'highway_mpg', 'city_mpg', 'horsepower', 'length']\n"
     ]
    }
   ],
   "source": [
    "featuresS = list(df_BS.feature_names[15])\n",
    "for i in df_BS.index:\n",
    "    print(\"Step = %d     R2 = %.2f\"%(i, df_BS.avg_score[i]))\n",
    "    var_deletedS = set(featuresS) - set(df_BS.feature_names[i])\n",
    "    print('var_deleted =',list(var_deletedS))"
   ]
  },
  {
   "cell_type": "code",
   "execution_count": 35,
   "metadata": {},
   "outputs": [
    {
     "name": "stdout",
     "output_type": "stream",
     "text": [
      "Features selected: ['curb_weight', 'bore', 'stroke', 'engine_size', 'width']\n"
     ]
    }
   ],
   "source": [
    "# Printing the variables selected\n",
    "feat_backwardS = list(set(featuresS) - set(var_deletedS))\n",
    "print('Features selected:', feat_backwardS)"
   ]
  },
  {
   "cell_type": "code",
   "execution_count": 36,
   "metadata": {},
   "outputs": [
    {
     "name": "stdout",
     "output_type": "stream",
     "text": [
      "Features selected: ['curb_weight', 'bore', 'stroke', 'engine_size', 'width']\n"
     ]
    }
   ],
   "source": [
    "print('Features selected:', feat_backward)"
   ]
  },
  {
   "cell_type": "markdown",
   "metadata": {},
   "source": [
    "In this case, backward and backward stepwise elimination got the same features set."
   ]
  },
  {
   "cell_type": "markdown",
   "metadata": {},
   "source": [
    "## Exhaustive Feature Selection"
   ]
  },
  {
   "cell_type": "markdown",
   "metadata": {},
   "source": [
    "The exhaustive feature selection algorithm is a wrapper approach for brute-force evaluation of feature subsets. It selects the best subset by optimizing a specified performance metric given an arbitrary regressor or classifier.\n",
    "\n",
    "The process is computationally intensive. In this notebook, we will calculate the best subset with 2 or 3 features."
   ]
  },
  {
   "cell_type": "code",
   "execution_count": 37,
   "metadata": {},
   "outputs": [
    {
     "data": {
      "text/plain": [
       "455"
      ]
     },
     "execution_count": 37,
     "metadata": {},
     "output_type": "execute_result"
    }
   ],
   "source": [
    "# number of subsets of size 3 we can compute from the number of features\n",
    "subsets3 = math.comb(len(Xnum.columns),3)\n",
    "subsets3"
   ]
  },
  {
   "cell_type": "code",
   "execution_count": 38,
   "metadata": {},
   "outputs": [
    {
     "data": {
      "text/plain": [
       "1365"
      ]
     },
     "execution_count": 38,
     "metadata": {},
     "output_type": "execute_result"
    }
   ],
   "source": [
    "# number of subsets of size 4 we can compute from the number of features\n",
    "subsets4 = math.comb(len(Xnum.columns),4)\n",
    "subsets4"
   ]
  },
  {
   "cell_type": "code",
   "execution_count": 39,
   "metadata": {},
   "outputs": [
    {
     "data": {
      "text/plain": [
       "3003"
      ]
     },
     "execution_count": 39,
     "metadata": {},
     "output_type": "execute_result"
    }
   ],
   "source": [
    "# number of subsets of size 5 we can compute from the number of features\n",
    "subsets5 = math.comb(len(Xnum.columns),5)\n",
    "subsets5"
   ]
  },
  {
   "cell_type": "code",
   "execution_count": 40,
   "metadata": {},
   "outputs": [
    {
     "data": {
      "text/plain": [
       "4823"
      ]
     },
     "execution_count": 40,
     "metadata": {},
     "output_type": "execute_result"
    }
   ],
   "source": [
    "subsets3 + subsets4 + subsets5"
   ]
  },
  {
   "cell_type": "code",
   "execution_count": 41,
   "metadata": {},
   "outputs": [],
   "source": [
    "# Define Exhaustive Feature Selection (efs)\n",
    "efs = EFS(LinearRegression(), min_features=3, max_features=5, scoring='r2', cv=0)"
   ]
  },
  {
   "cell_type": "code",
   "execution_count": 42,
   "metadata": {},
   "outputs": [
    {
     "name": "stderr",
     "output_type": "stream",
     "text": [
      "Features: 4823/4823"
     ]
    },
    {
     "data": {
      "text/plain": [
       "ExhaustiveFeatureSelector(cv=0, estimator=LinearRegression(), max_features=5,\n",
       "                          min_features=3, scoring='r2')"
      ]
     },
     "execution_count": 42,
     "metadata": {},
     "output_type": "execute_result"
    }
   ],
   "source": [
    "# Use SFS to select the top features \n",
    "efs.fit(Xnum, y)"
   ]
  },
  {
   "cell_type": "code",
   "execution_count": 43,
   "metadata": {},
   "outputs": [
    {
     "data": {
      "text/html": [
       "<div>\n",
       "<style scoped>\n",
       "    .dataframe tbody tr th:only-of-type {\n",
       "        vertical-align: middle;\n",
       "    }\n",
       "\n",
       "    .dataframe tbody tr th {\n",
       "        vertical-align: top;\n",
       "    }\n",
       "\n",
       "    .dataframe thead th {\n",
       "        text-align: right;\n",
       "    }\n",
       "</style>\n",
       "<table border=\"1\" class=\"dataframe\">\n",
       "  <thead>\n",
       "    <tr style=\"text-align: right;\">\n",
       "      <th></th>\n",
       "      <th>feature_idx</th>\n",
       "      <th>cv_scores</th>\n",
       "      <th>avg_score</th>\n",
       "      <th>feature_names</th>\n",
       "    </tr>\n",
       "  </thead>\n",
       "  <tbody>\n",
       "    <tr>\n",
       "      <th>0</th>\n",
       "      <td>(0, 1, 2)</td>\n",
       "      <td>[0.6204518180515963]</td>\n",
       "      <td>0.620452</td>\n",
       "      <td>(symboling, normalized_losses, wheel_base)</td>\n",
       "    </tr>\n",
       "    <tr>\n",
       "      <th>1</th>\n",
       "      <td>(0, 1, 3)</td>\n",
       "      <td>[0.6099636392678354]</td>\n",
       "      <td>0.609964</td>\n",
       "      <td>(symboling, normalized_losses, length)</td>\n",
       "    </tr>\n",
       "    <tr>\n",
       "      <th>2</th>\n",
       "      <td>(0, 1, 4)</td>\n",
       "      <td>[0.7258307277229896]</td>\n",
       "      <td>0.725831</td>\n",
       "      <td>(symboling, normalized_losses, width)</td>\n",
       "    </tr>\n",
       "    <tr>\n",
       "      <th>3</th>\n",
       "      <td>(0, 1, 5)</td>\n",
       "      <td>[0.21314899632974993]</td>\n",
       "      <td>0.213149</td>\n",
       "      <td>(symboling, normalized_losses, height)</td>\n",
       "    </tr>\n",
       "    <tr>\n",
       "      <th>4</th>\n",
       "      <td>(0, 1, 6)</td>\n",
       "      <td>[0.8070967569503297]</td>\n",
       "      <td>0.807097</td>\n",
       "      <td>(symboling, normalized_losses, curb_weight)</td>\n",
       "    </tr>\n",
       "    <tr>\n",
       "      <th>...</th>\n",
       "      <td>...</td>\n",
       "      <td>...</td>\n",
       "      <td>...</td>\n",
       "      <td>...</td>\n",
       "    </tr>\n",
       "    <tr>\n",
       "      <th>4818</th>\n",
       "      <td>(9, 10, 11, 12, 14)</td>\n",
       "      <td>[0.7437286042036377]</td>\n",
       "      <td>0.743729</td>\n",
       "      <td>(stroke, compression_ratio, horsepower, peak_r...</td>\n",
       "    </tr>\n",
       "    <tr>\n",
       "      <th>4819</th>\n",
       "      <td>(9, 10, 11, 13, 14)</td>\n",
       "      <td>[0.7387147726334917]</td>\n",
       "      <td>0.738715</td>\n",
       "      <td>(stroke, compression_ratio, horsepower, city_m...</td>\n",
       "    </tr>\n",
       "    <tr>\n",
       "      <th>4820</th>\n",
       "      <td>(9, 10, 12, 13, 14)</td>\n",
       "      <td>[0.671554619552396]</td>\n",
       "      <td>0.671555</td>\n",
       "      <td>(stroke, compression_ratio, peak_rpm, city_mpg...</td>\n",
       "    </tr>\n",
       "    <tr>\n",
       "      <th>4821</th>\n",
       "      <td>(9, 11, 12, 13, 14)</td>\n",
       "      <td>[0.6661773221946075]</td>\n",
       "      <td>0.666177</td>\n",
       "      <td>(stroke, horsepower, peak_rpm, city_mpg, highw...</td>\n",
       "    </tr>\n",
       "    <tr>\n",
       "      <th>4822</th>\n",
       "      <td>(10, 11, 12, 13, 14)</td>\n",
       "      <td>[0.7437253155807177]</td>\n",
       "      <td>0.743725</td>\n",
       "      <td>(compression_ratio, horsepower, peak_rpm, city...</td>\n",
       "    </tr>\n",
       "  </tbody>\n",
       "</table>\n",
       "<p>4823 rows × 4 columns</p>\n",
       "</div>"
      ],
      "text/plain": [
       "               feature_idx              cv_scores avg_score  \\\n",
       "0                (0, 1, 2)   [0.6204518180515963]  0.620452   \n",
       "1                (0, 1, 3)   [0.6099636392678354]  0.609964   \n",
       "2                (0, 1, 4)   [0.7258307277229896]  0.725831   \n",
       "3                (0, 1, 5)  [0.21314899632974993]  0.213149   \n",
       "4                (0, 1, 6)   [0.8070967569503297]  0.807097   \n",
       "...                    ...                    ...       ...   \n",
       "4818   (9, 10, 11, 12, 14)   [0.7437286042036377]  0.743729   \n",
       "4819   (9, 10, 11, 13, 14)   [0.7387147726334917]  0.738715   \n",
       "4820   (9, 10, 12, 13, 14)    [0.671554619552396]  0.671555   \n",
       "4821   (9, 11, 12, 13, 14)   [0.6661773221946075]  0.666177   \n",
       "4822  (10, 11, 12, 13, 14)   [0.7437253155807177]  0.743725   \n",
       "\n",
       "                                          feature_names  \n",
       "0            (symboling, normalized_losses, wheel_base)  \n",
       "1                (symboling, normalized_losses, length)  \n",
       "2                 (symboling, normalized_losses, width)  \n",
       "3                (symboling, normalized_losses, height)  \n",
       "4           (symboling, normalized_losses, curb_weight)  \n",
       "...                                                 ...  \n",
       "4818  (stroke, compression_ratio, horsepower, peak_r...  \n",
       "4819  (stroke, compression_ratio, horsepower, city_m...  \n",
       "4820  (stroke, compression_ratio, peak_rpm, city_mpg...  \n",
       "4821  (stroke, horsepower, peak_rpm, city_mpg, highw...  \n",
       "4822  (compression_ratio, horsepower, peak_rpm, city...  \n",
       "\n",
       "[4823 rows x 4 columns]"
      ]
     },
     "execution_count": 43,
     "metadata": {},
     "output_type": "execute_result"
    }
   ],
   "source": [
    "df_E = pd.DataFrame(efs.subsets_).T\n",
    "df_E"
   ]
  },
  {
   "cell_type": "code",
   "execution_count": 44,
   "metadata": {},
   "outputs": [
    {
     "data": {
      "text/plain": [
       "feature_idx      object\n",
       "cv_scores        object\n",
       "avg_score        object\n",
       "feature_names    object\n",
       "dtype: object"
      ]
     },
     "execution_count": 44,
     "metadata": {},
     "output_type": "execute_result"
    }
   ],
   "source": [
    "df_E.dtypes"
   ]
  },
  {
   "cell_type": "code",
   "execution_count": 45,
   "metadata": {},
   "outputs": [
    {
     "data": {
      "text/plain": [
       "feature_idx       object\n",
       "cv_scores         object\n",
       "avg_score        float64\n",
       "feature_names     object\n",
       "dtype: object"
      ]
     },
     "execution_count": 45,
     "metadata": {},
     "output_type": "execute_result"
    }
   ],
   "source": [
    "df_E.avg_score = df_E.avg_score.astype('float')\n",
    "df_E.dtypes"
   ]
  },
  {
   "cell_type": "code",
   "execution_count": 46,
   "metadata": {},
   "outputs": [
    {
     "name": "stdout",
     "output_type": "stream",
     "text": [
      "The maximum score is: 83.57\n",
      "The index corresponding to the maximum: 4071\n",
      "The selected fearures are: ('length', 'width', 'curb_weight', 'engine_size', 'peak_rpm')\n"
     ]
    }
   ],
   "source": [
    "print('The maximum score is: %.2f' %(df_E.avg_score.max()*100))\n",
    "print('The index corresponding to the maximum:', df_E.avg_score.argmax())\n",
    "print('The selected fearures are:', df_E.feature_names[df_E.avg_score.argmax()])"
   ]
  },
  {
   "cell_type": "code",
   "execution_count": 47,
   "metadata": {},
   "outputs": [
    {
     "name": "stdout",
     "output_type": "stream",
     "text": [
      "Forward Selection Features:    ['curb_weight', 'width', 'engine_size', 'peak_rpm', 'length']\n",
      "Backward Elimination Features: ['curb_weight', 'bore', 'stroke', 'engine_size', 'width']\n"
     ]
    }
   ],
   "source": [
    "print('Forward Selection Features:   ', feat_forward)\n",
    "print('Backward Elimination Features:', feat_backward)"
   ]
  },
  {
   "cell_type": "markdown",
   "metadata": {},
   "source": [
    "The exhaustive feature selection algorithm consists of a brute-force evaluation of feature subsets. It means it tries every possible combination of features between `min_features` and `max_features` and returns the best-performing subset. The other approaches: forward selection and backward elimination, do not guarantee to get the best subset."
   ]
  },
  {
   "cell_type": "markdown",
   "metadata": {},
   "source": [
    "Reference:\n",
    "- Albon, C. (2018) Python Machine Learning Cookbook: Practical Solutions from Preprocessing to Deep Learning, O'Reilly, chapter 10\n",
    "- http://rasbt.github.io/mlxtend/api_subpackages/mlxtend.feature_selection/"
   ]
  },
  {
   "cell_type": "markdown",
   "metadata": {},
   "source": [
    "## "
   ]
  }
 ],
 "metadata": {
  "kernelspec": {
   "display_name": "Python 3.10.5 64-bit (windows store)",
   "language": "python",
   "name": "python3"
  },
  "language_info": {
   "codemirror_mode": {
    "name": "ipython",
    "version": 3
   },
   "file_extension": ".py",
   "mimetype": "text/x-python",
   "name": "python",
   "nbconvert_exporter": "python",
   "pygments_lexer": "ipython3",
   "version": "3.10.5"
  },
  "orig_nbformat": 4,
  "vscode": {
   "interpreter": {
    "hash": "f6ce50080babb3e2c9dded3d344b1d82a47cf5d6f13f4c2ab5a2113adb8feaef"
   }
  }
 },
 "nbformat": 4,
 "nbformat_minor": 2
}
